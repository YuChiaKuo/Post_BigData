{
 "cells": [
  {
   "cell_type": "code",
   "execution_count": 0,
   "metadata": {
    "colab": {},
    "colab_type": "code",
    "id": "fH_Sf7mUvc9b"
   },
   "outputs": [],
   "source": [
    "import tensorflow as tf\n",
    "#from tensorflow.examples.tutorials.mnist import input_data\n",
    "import numpy as np\n",
    "import matplotlib.pyplot as plt\n",
    "import matplotlib.gridspec as gridspec\n",
    "import os\n",
    "import scipy\n",
    "import logging\n",
    "import matplotlib.pyplot as plt\n",
    "#import os\n",
    "from sklearn import preprocessing\n",
    "import numpy as np\n",
    "import pandas as pd\n",
    "from sklearn.model_selection import train_test_split\n",
    "from sklearn.metrics import confusion_matrix, f1_score, precision_score, recall_score, roc_curve"
   ]
  },
  {
   "cell_type": "code",
   "execution_count": 0,
   "metadata": {
    "colab": {},
    "colab_type": "code",
    "id": "ic7ZUlYHvc9e"
   },
   "outputs": [],
   "source": [
    "#for train\n",
    "def ori_get_data(df): #input pandas\n",
    "    names  = df.columns\n",
    "    n, p = df.shape\n",
    "    u = []\n",
    "    std = []\n",
    "    index = [] #數值的column\n",
    "    \n",
    "    for i in range(p):\n",
    "        if len(np.unique(df[names[i]])) > 2 :\n",
    "            u.append(np.mean(df[names[i]],axis = 0))\n",
    "            std.append(np.std(df[names[i]],axis = 0))\n",
    "            index.append(i)\n",
    "    return index,u,std"
   ]
  },
  {
   "cell_type": "code",
   "execution_count": 0,
   "metadata": {
    "colab": {},
    "colab_type": "code",
    "id": "ctISrRnTvc9g"
   },
   "outputs": [],
   "source": [
    "def scale_data(df,u,std,index):\n",
    "    names  = df.columns\n",
    "    for index_ in index:\n",
    "        i = 0\n",
    "        df[names[index_]] = (df[names[index_]]-u[i])/std[i]\n",
    "        i = i+1\n",
    "    return np.array(df)"
   ]
  },
  {
   "cell_type": "code",
   "execution_count": 0,
   "metadata": {
    "colab": {},
    "colab_type": "code",
    "id": "6uXxjwl_vc9i"
   },
   "outputs": [],
   "source": [
    "def get_noisy_data(df): #input array\n",
    "    n,p = df.shape\n",
    "    k = n//3\n",
    "    population  = np.arange(n)\n",
    "    \n",
    "    for i in range(p):\n",
    "        if len(np.unique(df[:,0])) <= 2:\n",
    "            index = np.random.choice(population,k)\n",
    "            df[index,i] = (df[index,i] + 1) % 2\n",
    "        else:\n",
    "            df[:,i]= df[:,i]+ 0.55 * np.random.normal(0,1,(n,1)).reshape(n)\n",
    "\n",
    "    return df"
   ]
  },
  {
   "cell_type": "markdown",
   "metadata": {
    "colab_type": "text",
    "id": "oBn7c3RDvc9j"
   },
   "source": [
    "## 有用i郵箱的資料作訓練"
   ]
  },
  {
   "cell_type": "code",
   "execution_count": 8,
   "metadata": {
    "colab": {
     "base_uri": "https://localhost:8080/",
     "height": 71,
     "resources": {
      "http://localhost:8080/nbextensions/google.colab/files.js": {
       "data": "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",
       "headers": [
        [
         "content-type",
         "application/javascript"
        ]
       ],
       "ok": true,
       "status": 200,
       "status_text": ""
      }
     }
    },
    "colab_type": "code",
    "id": "A7UwSwyHvt1F",
    "outputId": "d89f8839-45b7-4878-afd1-365b5554cfad"
   },
   "outputs": [
    {
     "data": {
      "text/html": [
       "\n",
       "     <input type=\"file\" id=\"files-2fefb6fc-ab16-403f-844e-4e96be1f2ae4\" name=\"files[]\" multiple disabled />\n",
       "     <output id=\"result-2fefb6fc-ab16-403f-844e-4e96be1f2ae4\">\n",
       "      Upload widget is only available when the cell has been executed in the\n",
       "      current browser session. Please rerun this cell to enable.\n",
       "      </output>\n",
       "      <script src=\"/nbextensions/google.colab/files.js\"></script> "
      ],
      "text/plain": [
       "<IPython.core.display.HTML object>"
      ]
     },
     "metadata": {
      "tags": []
     },
     "output_type": "display_data"
    },
    {
     "name": "stdout",
     "output_type": "stream",
     "text": [
      "Saving ibox_mail_change.csv to ibox_mail_change.csv\n"
     ]
    }
   ],
   "source": [
    "from google.colab import files\n",
    "uploaded = files.upload()"
   ]
  },
  {
   "cell_type": "code",
   "execution_count": 9,
   "metadata": {
    "colab": {
     "base_uri": "https://localhost:8080/",
     "height": 270
    },
    "colab_type": "code",
    "id": "JgYdUrR0vc9j",
    "outputId": "5ed7bdaa-6192-4ba6-fc17-4b785799ef77"
   },
   "outputs": [
    {
     "data": {
      "text/html": [
       "<div>\n",
       "<style scoped>\n",
       "    .dataframe tbody tr th:only-of-type {\n",
       "        vertical-align: middle;\n",
       "    }\n",
       "\n",
       "    .dataframe tbody tr th {\n",
       "        vertical-align: top;\n",
       "    }\n",
       "\n",
       "    .dataframe thead th {\n",
       "        text-align: right;\n",
       "    }\n",
       "</style>\n",
       "<table border=\"1\" class=\"dataframe\">\n",
       "  <thead>\n",
       "    <tr style=\"text-align: right;\">\n",
       "      <th></th>\n",
       "      <th>Unnamed: 0</th>\n",
       "      <th>ACC2</th>\n",
       "      <th>ACC5</th>\n",
       "      <th>ACC15</th>\n",
       "      <th>ACC21</th>\n",
       "      <th>ACC22</th>\n",
       "      <th>ACC23</th>\n",
       "      <th>ACC25</th>\n",
       "      <th>ACC32</th>\n",
       "      <th>ACC7_0</th>\n",
       "      <th>ACC7_1</th>\n",
       "      <th>ACC7_2</th>\n",
       "      <th>ACC7_3</th>\n",
       "      <th>ACC10_0</th>\n",
       "      <th>ACC10_1</th>\n",
       "      <th>ACC10_2</th>\n",
       "      <th>ACC12_ACC13_11</th>\n",
       "      <th>ACC12_ACC13_12</th>\n",
       "      <th>ACC12_ACC13_13</th>\n",
       "      <th>ACC12_ACC13_14</th>\n",
       "      <th>ACC12_ACC13_15</th>\n",
       "      <th>ACC12_ACC13_16</th>\n",
       "      <th>ACC12_ACC13_17</th>\n",
       "      <th>ACC12_ACC13_18</th>\n",
       "      <th>ACC12_ACC13_19</th>\n",
       "      <th>ACC12_ACC13_1V</th>\n",
       "      <th>ACC12_ACC13_21</th>\n",
       "      <th>ACC12_ACC13_22</th>\n",
       "      <th>ACC12_ACC13_23</th>\n",
       "      <th>ACC12_ACC13_24</th>\n",
       "      <th>ACC12_ACC13_31</th>\n",
       "      <th>ACC12_ACC13_32</th>\n",
       "      <th>ACC12_ACC13_33</th>\n",
       "      <th>ACC12_ACC13_34</th>\n",
       "      <th>ACC12_ACC13_35</th>\n",
       "      <th>ACC12_ACC13_36</th>\n",
       "      <th>ACC16_0</th>\n",
       "      <th>ACC16_1</th>\n",
       "      <th>ACC16_2</th>\n",
       "      <th>ACC16_3</th>\n",
       "      <th>...</th>\n",
       "      <th>ACC35_00</th>\n",
       "      <th>ACC35_02</th>\n",
       "      <th>ACC35_03</th>\n",
       "      <th>ACC35_04</th>\n",
       "      <th>ACC35_05</th>\n",
       "      <th>ACC35_06</th>\n",
       "      <th>ACC35_11</th>\n",
       "      <th>ACC35_12</th>\n",
       "      <th>ACC35_13</th>\n",
       "      <th>ACC35_14</th>\n",
       "      <th>ACC35_15</th>\n",
       "      <th>ACC35_16</th>\n",
       "      <th>ACC35_17</th>\n",
       "      <th>ACC35_18</th>\n",
       "      <th>ACC35_19</th>\n",
       "      <th>ACC35_21</th>\n",
       "      <th>ACC35_22</th>\n",
       "      <th>ACC35_23</th>\n",
       "      <th>ACC35_24</th>\n",
       "      <th>ACC35_31</th>\n",
       "      <th>ACC35_34</th>\n",
       "      <th>ACC35_41</th>\n",
       "      <th>ACC35_42</th>\n",
       "      <th>ACC35_43</th>\n",
       "      <th>ACC35_51</th>\n",
       "      <th>ACC35_52</th>\n",
       "      <th>ACC35_53</th>\n",
       "      <th>ACC35_54</th>\n",
       "      <th>ACC35_55</th>\n",
       "      <th>ACC35_56</th>\n",
       "      <th>ACC35_57</th>\n",
       "      <th>ACC35_61</th>\n",
       "      <th>ACC35_62</th>\n",
       "      <th>ACC35_63</th>\n",
       "      <th>ACC35_64</th>\n",
       "      <th>ACC35_65</th>\n",
       "      <th>ACC35_66</th>\n",
       "      <th>ACC35_67</th>\n",
       "      <th>ACC31_</th>\n",
       "      <th>diff_day_</th>\n",
       "    </tr>\n",
       "  </thead>\n",
       "  <tbody>\n",
       "    <tr>\n",
       "      <th>0</th>\n",
       "      <td>0</td>\n",
       "      <td>0</td>\n",
       "      <td>0</td>\n",
       "      <td>0</td>\n",
       "      <td>0</td>\n",
       "      <td>1</td>\n",
       "      <td>0</td>\n",
       "      <td>0</td>\n",
       "      <td>1</td>\n",
       "      <td>1</td>\n",
       "      <td>0</td>\n",
       "      <td>0</td>\n",
       "      <td>0</td>\n",
       "      <td>1</td>\n",
       "      <td>0</td>\n",
       "      <td>0</td>\n",
       "      <td>0</td>\n",
       "      <td>0</td>\n",
       "      <td>0</td>\n",
       "      <td>0</td>\n",
       "      <td>0</td>\n",
       "      <td>0</td>\n",
       "      <td>0</td>\n",
       "      <td>0</td>\n",
       "      <td>0</td>\n",
       "      <td>0</td>\n",
       "      <td>1</td>\n",
       "      <td>0</td>\n",
       "      <td>0</td>\n",
       "      <td>0</td>\n",
       "      <td>0</td>\n",
       "      <td>0</td>\n",
       "      <td>0</td>\n",
       "      <td>0</td>\n",
       "      <td>0</td>\n",
       "      <td>0</td>\n",
       "      <td>1</td>\n",
       "      <td>0</td>\n",
       "      <td>0</td>\n",
       "      <td>0</td>\n",
       "      <td>...</td>\n",
       "      <td>1</td>\n",
       "      <td>0</td>\n",
       "      <td>0</td>\n",
       "      <td>0</td>\n",
       "      <td>0</td>\n",
       "      <td>0</td>\n",
       "      <td>0</td>\n",
       "      <td>0</td>\n",
       "      <td>0</td>\n",
       "      <td>0</td>\n",
       "      <td>0</td>\n",
       "      <td>0</td>\n",
       "      <td>0</td>\n",
       "      <td>0</td>\n",
       "      <td>0</td>\n",
       "      <td>0</td>\n",
       "      <td>0</td>\n",
       "      <td>0</td>\n",
       "      <td>0</td>\n",
       "      <td>0</td>\n",
       "      <td>0</td>\n",
       "      <td>0</td>\n",
       "      <td>0</td>\n",
       "      <td>0</td>\n",
       "      <td>0</td>\n",
       "      <td>0</td>\n",
       "      <td>0</td>\n",
       "      <td>0</td>\n",
       "      <td>0</td>\n",
       "      <td>0</td>\n",
       "      <td>0</td>\n",
       "      <td>0</td>\n",
       "      <td>0</td>\n",
       "      <td>0</td>\n",
       "      <td>0</td>\n",
       "      <td>0</td>\n",
       "      <td>0</td>\n",
       "      <td>0</td>\n",
       "      <td>3475</td>\n",
       "      <td>7.251076</td>\n",
       "    </tr>\n",
       "    <tr>\n",
       "      <th>1</th>\n",
       "      <td>1</td>\n",
       "      <td>0</td>\n",
       "      <td>0</td>\n",
       "      <td>0</td>\n",
       "      <td>0</td>\n",
       "      <td>1</td>\n",
       "      <td>0</td>\n",
       "      <td>0</td>\n",
       "      <td>1</td>\n",
       "      <td>1</td>\n",
       "      <td>0</td>\n",
       "      <td>0</td>\n",
       "      <td>0</td>\n",
       "      <td>1</td>\n",
       "      <td>0</td>\n",
       "      <td>0</td>\n",
       "      <td>0</td>\n",
       "      <td>0</td>\n",
       "      <td>0</td>\n",
       "      <td>0</td>\n",
       "      <td>0</td>\n",
       "      <td>0</td>\n",
       "      <td>0</td>\n",
       "      <td>0</td>\n",
       "      <td>0</td>\n",
       "      <td>0</td>\n",
       "      <td>1</td>\n",
       "      <td>0</td>\n",
       "      <td>0</td>\n",
       "      <td>0</td>\n",
       "      <td>0</td>\n",
       "      <td>0</td>\n",
       "      <td>0</td>\n",
       "      <td>0</td>\n",
       "      <td>0</td>\n",
       "      <td>0</td>\n",
       "      <td>1</td>\n",
       "      <td>0</td>\n",
       "      <td>0</td>\n",
       "      <td>0</td>\n",
       "      <td>...</td>\n",
       "      <td>1</td>\n",
       "      <td>0</td>\n",
       "      <td>0</td>\n",
       "      <td>0</td>\n",
       "      <td>0</td>\n",
       "      <td>0</td>\n",
       "      <td>0</td>\n",
       "      <td>0</td>\n",
       "      <td>0</td>\n",
       "      <td>0</td>\n",
       "      <td>0</td>\n",
       "      <td>0</td>\n",
       "      <td>0</td>\n",
       "      <td>0</td>\n",
       "      <td>0</td>\n",
       "      <td>0</td>\n",
       "      <td>0</td>\n",
       "      <td>0</td>\n",
       "      <td>0</td>\n",
       "      <td>0</td>\n",
       "      <td>0</td>\n",
       "      <td>0</td>\n",
       "      <td>0</td>\n",
       "      <td>0</td>\n",
       "      <td>0</td>\n",
       "      <td>0</td>\n",
       "      <td>0</td>\n",
       "      <td>0</td>\n",
       "      <td>0</td>\n",
       "      <td>0</td>\n",
       "      <td>0</td>\n",
       "      <td>0</td>\n",
       "      <td>0</td>\n",
       "      <td>0</td>\n",
       "      <td>0</td>\n",
       "      <td>0</td>\n",
       "      <td>0</td>\n",
       "      <td>0</td>\n",
       "      <td>833</td>\n",
       "      <td>1.245799</td>\n",
       "    </tr>\n",
       "    <tr>\n",
       "      <th>2</th>\n",
       "      <td>2</td>\n",
       "      <td>0</td>\n",
       "      <td>0</td>\n",
       "      <td>0</td>\n",
       "      <td>0</td>\n",
       "      <td>1</td>\n",
       "      <td>0</td>\n",
       "      <td>0</td>\n",
       "      <td>1</td>\n",
       "      <td>0</td>\n",
       "      <td>1</td>\n",
       "      <td>0</td>\n",
       "      <td>0</td>\n",
       "      <td>1</td>\n",
       "      <td>0</td>\n",
       "      <td>0</td>\n",
       "      <td>0</td>\n",
       "      <td>0</td>\n",
       "      <td>0</td>\n",
       "      <td>0</td>\n",
       "      <td>0</td>\n",
       "      <td>0</td>\n",
       "      <td>0</td>\n",
       "      <td>0</td>\n",
       "      <td>0</td>\n",
       "      <td>0</td>\n",
       "      <td>1</td>\n",
       "      <td>0</td>\n",
       "      <td>0</td>\n",
       "      <td>0</td>\n",
       "      <td>0</td>\n",
       "      <td>0</td>\n",
       "      <td>0</td>\n",
       "      <td>0</td>\n",
       "      <td>0</td>\n",
       "      <td>0</td>\n",
       "      <td>1</td>\n",
       "      <td>0</td>\n",
       "      <td>0</td>\n",
       "      <td>0</td>\n",
       "      <td>...</td>\n",
       "      <td>1</td>\n",
       "      <td>0</td>\n",
       "      <td>0</td>\n",
       "      <td>0</td>\n",
       "      <td>0</td>\n",
       "      <td>0</td>\n",
       "      <td>0</td>\n",
       "      <td>0</td>\n",
       "      <td>0</td>\n",
       "      <td>0</td>\n",
       "      <td>0</td>\n",
       "      <td>0</td>\n",
       "      <td>0</td>\n",
       "      <td>0</td>\n",
       "      <td>0</td>\n",
       "      <td>0</td>\n",
       "      <td>0</td>\n",
       "      <td>0</td>\n",
       "      <td>0</td>\n",
       "      <td>0</td>\n",
       "      <td>0</td>\n",
       "      <td>0</td>\n",
       "      <td>0</td>\n",
       "      <td>0</td>\n",
       "      <td>0</td>\n",
       "      <td>0</td>\n",
       "      <td>0</td>\n",
       "      <td>0</td>\n",
       "      <td>0</td>\n",
       "      <td>0</td>\n",
       "      <td>0</td>\n",
       "      <td>0</td>\n",
       "      <td>0</td>\n",
       "      <td>0</td>\n",
       "      <td>0</td>\n",
       "      <td>0</td>\n",
       "      <td>0</td>\n",
       "      <td>0</td>\n",
       "      <td>569</td>\n",
       "      <td>2.164583</td>\n",
       "    </tr>\n",
       "    <tr>\n",
       "      <th>3</th>\n",
       "      <td>3</td>\n",
       "      <td>0</td>\n",
       "      <td>0</td>\n",
       "      <td>0</td>\n",
       "      <td>0</td>\n",
       "      <td>1</td>\n",
       "      <td>0</td>\n",
       "      <td>0</td>\n",
       "      <td>1</td>\n",
       "      <td>0</td>\n",
       "      <td>1</td>\n",
       "      <td>0</td>\n",
       "      <td>0</td>\n",
       "      <td>1</td>\n",
       "      <td>0</td>\n",
       "      <td>0</td>\n",
       "      <td>0</td>\n",
       "      <td>0</td>\n",
       "      <td>0</td>\n",
       "      <td>0</td>\n",
       "      <td>0</td>\n",
       "      <td>0</td>\n",
       "      <td>0</td>\n",
       "      <td>0</td>\n",
       "      <td>0</td>\n",
       "      <td>0</td>\n",
       "      <td>1</td>\n",
       "      <td>0</td>\n",
       "      <td>0</td>\n",
       "      <td>0</td>\n",
       "      <td>0</td>\n",
       "      <td>0</td>\n",
       "      <td>0</td>\n",
       "      <td>0</td>\n",
       "      <td>0</td>\n",
       "      <td>0</td>\n",
       "      <td>1</td>\n",
       "      <td>0</td>\n",
       "      <td>0</td>\n",
       "      <td>0</td>\n",
       "      <td>...</td>\n",
       "      <td>0</td>\n",
       "      <td>0</td>\n",
       "      <td>0</td>\n",
       "      <td>0</td>\n",
       "      <td>0</td>\n",
       "      <td>0</td>\n",
       "      <td>0</td>\n",
       "      <td>0</td>\n",
       "      <td>0</td>\n",
       "      <td>0</td>\n",
       "      <td>0</td>\n",
       "      <td>0</td>\n",
       "      <td>0</td>\n",
       "      <td>0</td>\n",
       "      <td>0</td>\n",
       "      <td>0</td>\n",
       "      <td>0</td>\n",
       "      <td>0</td>\n",
       "      <td>0</td>\n",
       "      <td>0</td>\n",
       "      <td>0</td>\n",
       "      <td>0</td>\n",
       "      <td>0</td>\n",
       "      <td>0</td>\n",
       "      <td>0</td>\n",
       "      <td>0</td>\n",
       "      <td>0</td>\n",
       "      <td>0</td>\n",
       "      <td>0</td>\n",
       "      <td>0</td>\n",
       "      <td>0</td>\n",
       "      <td>0</td>\n",
       "      <td>0</td>\n",
       "      <td>0</td>\n",
       "      <td>1</td>\n",
       "      <td>0</td>\n",
       "      <td>0</td>\n",
       "      <td>0</td>\n",
       "      <td>8374</td>\n",
       "      <td>27.190000</td>\n",
       "    </tr>\n",
       "    <tr>\n",
       "      <th>4</th>\n",
       "      <td>4</td>\n",
       "      <td>0</td>\n",
       "      <td>0</td>\n",
       "      <td>0</td>\n",
       "      <td>0</td>\n",
       "      <td>1</td>\n",
       "      <td>0</td>\n",
       "      <td>0</td>\n",
       "      <td>1</td>\n",
       "      <td>0</td>\n",
       "      <td>1</td>\n",
       "      <td>0</td>\n",
       "      <td>0</td>\n",
       "      <td>1</td>\n",
       "      <td>0</td>\n",
       "      <td>0</td>\n",
       "      <td>0</td>\n",
       "      <td>0</td>\n",
       "      <td>0</td>\n",
       "      <td>0</td>\n",
       "      <td>0</td>\n",
       "      <td>0</td>\n",
       "      <td>0</td>\n",
       "      <td>0</td>\n",
       "      <td>0</td>\n",
       "      <td>0</td>\n",
       "      <td>1</td>\n",
       "      <td>0</td>\n",
       "      <td>0</td>\n",
       "      <td>0</td>\n",
       "      <td>0</td>\n",
       "      <td>0</td>\n",
       "      <td>0</td>\n",
       "      <td>0</td>\n",
       "      <td>0</td>\n",
       "      <td>0</td>\n",
       "      <td>1</td>\n",
       "      <td>0</td>\n",
       "      <td>0</td>\n",
       "      <td>0</td>\n",
       "      <td>...</td>\n",
       "      <td>0</td>\n",
       "      <td>0</td>\n",
       "      <td>0</td>\n",
       "      <td>0</td>\n",
       "      <td>0</td>\n",
       "      <td>0</td>\n",
       "      <td>0</td>\n",
       "      <td>0</td>\n",
       "      <td>0</td>\n",
       "      <td>0</td>\n",
       "      <td>0</td>\n",
       "      <td>0</td>\n",
       "      <td>0</td>\n",
       "      <td>0</td>\n",
       "      <td>0</td>\n",
       "      <td>0</td>\n",
       "      <td>0</td>\n",
       "      <td>0</td>\n",
       "      <td>0</td>\n",
       "      <td>0</td>\n",
       "      <td>0</td>\n",
       "      <td>0</td>\n",
       "      <td>0</td>\n",
       "      <td>0</td>\n",
       "      <td>0</td>\n",
       "      <td>0</td>\n",
       "      <td>0</td>\n",
       "      <td>0</td>\n",
       "      <td>0</td>\n",
       "      <td>1</td>\n",
       "      <td>0</td>\n",
       "      <td>0</td>\n",
       "      <td>0</td>\n",
       "      <td>0</td>\n",
       "      <td>0</td>\n",
       "      <td>0</td>\n",
       "      <td>0</td>\n",
       "      <td>0</td>\n",
       "      <td>225</td>\n",
       "      <td>2.359745</td>\n",
       "    </tr>\n",
       "  </tbody>\n",
       "</table>\n",
       "<p>5 rows × 121 columns</p>\n",
       "</div>"
      ],
      "text/plain": [
       "   Unnamed: 0  ACC2  ACC5  ACC15  ...  ACC35_66  ACC35_67  ACC31_  diff_day_\n",
       "0           0     0     0      0  ...         0         0    3475   7.251076\n",
       "1           1     0     0      0  ...         0         0     833   1.245799\n",
       "2           2     0     0      0  ...         0         0     569   2.164583\n",
       "3           3     0     0      0  ...         0         0    8374  27.190000\n",
       "4           4     0     0      0  ...         0         0     225   2.359745\n",
       "\n",
       "[5 rows x 121 columns]"
      ]
     },
     "execution_count": 9,
     "metadata": {
      "tags": []
     },
     "output_type": "execute_result"
    }
   ],
   "source": [
    "df = pd.read_csv(\"ibox_mail_change.csv\")\n",
    "df.head()"
   ]
  },
  {
   "cell_type": "code",
   "execution_count": 10,
   "metadata": {
    "colab": {
     "base_uri": "https://localhost:8080/",
     "height": 253
    },
    "colab_type": "code",
    "id": "c1vAPUUzvc9m",
    "outputId": "80358cb3-bbb7-41a6-9ffd-79c2f926e4fc"
   },
   "outputs": [
    {
     "data": {
      "text/html": [
       "<div>\n",
       "<style scoped>\n",
       "    .dataframe tbody tr th:only-of-type {\n",
       "        vertical-align: middle;\n",
       "    }\n",
       "\n",
       "    .dataframe tbody tr th {\n",
       "        vertical-align: top;\n",
       "    }\n",
       "\n",
       "    .dataframe thead th {\n",
       "        text-align: right;\n",
       "    }\n",
       "</style>\n",
       "<table border=\"1\" class=\"dataframe\">\n",
       "  <thead>\n",
       "    <tr style=\"text-align: right;\">\n",
       "      <th></th>\n",
       "      <th>ACC2</th>\n",
       "      <th>ACC5</th>\n",
       "      <th>ACC15</th>\n",
       "      <th>ACC21</th>\n",
       "      <th>ACC22</th>\n",
       "      <th>ACC23</th>\n",
       "      <th>ACC25</th>\n",
       "      <th>ACC32</th>\n",
       "      <th>ACC7_0</th>\n",
       "      <th>ACC7_1</th>\n",
       "      <th>ACC7_2</th>\n",
       "      <th>ACC7_3</th>\n",
       "      <th>ACC10_0</th>\n",
       "      <th>ACC10_1</th>\n",
       "      <th>ACC10_2</th>\n",
       "      <th>ACC12_ACC13_11</th>\n",
       "      <th>ACC12_ACC13_12</th>\n",
       "      <th>ACC12_ACC13_13</th>\n",
       "      <th>ACC12_ACC13_14</th>\n",
       "      <th>ACC12_ACC13_15</th>\n",
       "      <th>ACC12_ACC13_16</th>\n",
       "      <th>ACC12_ACC13_17</th>\n",
       "      <th>ACC12_ACC13_18</th>\n",
       "      <th>ACC12_ACC13_19</th>\n",
       "      <th>ACC12_ACC13_1V</th>\n",
       "      <th>ACC12_ACC13_21</th>\n",
       "      <th>ACC12_ACC13_22</th>\n",
       "      <th>ACC12_ACC13_23</th>\n",
       "      <th>ACC12_ACC13_24</th>\n",
       "      <th>ACC12_ACC13_31</th>\n",
       "      <th>ACC12_ACC13_32</th>\n",
       "      <th>ACC12_ACC13_33</th>\n",
       "      <th>ACC12_ACC13_34</th>\n",
       "      <th>ACC12_ACC13_35</th>\n",
       "      <th>ACC12_ACC13_36</th>\n",
       "      <th>ACC16_0</th>\n",
       "      <th>ACC16_1</th>\n",
       "      <th>ACC16_2</th>\n",
       "      <th>ACC16_3</th>\n",
       "      <th>ACC16_4</th>\n",
       "      <th>...</th>\n",
       "      <th>ACC35_00</th>\n",
       "      <th>ACC35_02</th>\n",
       "      <th>ACC35_03</th>\n",
       "      <th>ACC35_04</th>\n",
       "      <th>ACC35_05</th>\n",
       "      <th>ACC35_06</th>\n",
       "      <th>ACC35_11</th>\n",
       "      <th>ACC35_12</th>\n",
       "      <th>ACC35_13</th>\n",
       "      <th>ACC35_14</th>\n",
       "      <th>ACC35_15</th>\n",
       "      <th>ACC35_16</th>\n",
       "      <th>ACC35_17</th>\n",
       "      <th>ACC35_18</th>\n",
       "      <th>ACC35_19</th>\n",
       "      <th>ACC35_21</th>\n",
       "      <th>ACC35_22</th>\n",
       "      <th>ACC35_23</th>\n",
       "      <th>ACC35_24</th>\n",
       "      <th>ACC35_31</th>\n",
       "      <th>ACC35_34</th>\n",
       "      <th>ACC35_41</th>\n",
       "      <th>ACC35_42</th>\n",
       "      <th>ACC35_43</th>\n",
       "      <th>ACC35_51</th>\n",
       "      <th>ACC35_52</th>\n",
       "      <th>ACC35_53</th>\n",
       "      <th>ACC35_54</th>\n",
       "      <th>ACC35_55</th>\n",
       "      <th>ACC35_56</th>\n",
       "      <th>ACC35_57</th>\n",
       "      <th>ACC35_61</th>\n",
       "      <th>ACC35_62</th>\n",
       "      <th>ACC35_63</th>\n",
       "      <th>ACC35_64</th>\n",
       "      <th>ACC35_65</th>\n",
       "      <th>ACC35_66</th>\n",
       "      <th>ACC35_67</th>\n",
       "      <th>ACC31_</th>\n",
       "      <th>diff_day_</th>\n",
       "    </tr>\n",
       "  </thead>\n",
       "  <tbody>\n",
       "    <tr>\n",
       "      <th>0</th>\n",
       "      <td>0</td>\n",
       "      <td>0</td>\n",
       "      <td>0</td>\n",
       "      <td>0</td>\n",
       "      <td>1</td>\n",
       "      <td>0</td>\n",
       "      <td>0</td>\n",
       "      <td>1</td>\n",
       "      <td>1</td>\n",
       "      <td>0</td>\n",
       "      <td>0</td>\n",
       "      <td>0</td>\n",
       "      <td>1</td>\n",
       "      <td>0</td>\n",
       "      <td>0</td>\n",
       "      <td>0</td>\n",
       "      <td>0</td>\n",
       "      <td>0</td>\n",
       "      <td>0</td>\n",
       "      <td>0</td>\n",
       "      <td>0</td>\n",
       "      <td>0</td>\n",
       "      <td>0</td>\n",
       "      <td>0</td>\n",
       "      <td>0</td>\n",
       "      <td>1</td>\n",
       "      <td>0</td>\n",
       "      <td>0</td>\n",
       "      <td>0</td>\n",
       "      <td>0</td>\n",
       "      <td>0</td>\n",
       "      <td>0</td>\n",
       "      <td>0</td>\n",
       "      <td>0</td>\n",
       "      <td>0</td>\n",
       "      <td>1</td>\n",
       "      <td>0</td>\n",
       "      <td>0</td>\n",
       "      <td>0</td>\n",
       "      <td>0</td>\n",
       "      <td>...</td>\n",
       "      <td>1</td>\n",
       "      <td>0</td>\n",
       "      <td>0</td>\n",
       "      <td>0</td>\n",
       "      <td>0</td>\n",
       "      <td>0</td>\n",
       "      <td>0</td>\n",
       "      <td>0</td>\n",
       "      <td>0</td>\n",
       "      <td>0</td>\n",
       "      <td>0</td>\n",
       "      <td>0</td>\n",
       "      <td>0</td>\n",
       "      <td>0</td>\n",
       "      <td>0</td>\n",
       "      <td>0</td>\n",
       "      <td>0</td>\n",
       "      <td>0</td>\n",
       "      <td>0</td>\n",
       "      <td>0</td>\n",
       "      <td>0</td>\n",
       "      <td>0</td>\n",
       "      <td>0</td>\n",
       "      <td>0</td>\n",
       "      <td>0</td>\n",
       "      <td>0</td>\n",
       "      <td>0</td>\n",
       "      <td>0</td>\n",
       "      <td>0</td>\n",
       "      <td>0</td>\n",
       "      <td>0</td>\n",
       "      <td>0</td>\n",
       "      <td>0</td>\n",
       "      <td>0</td>\n",
       "      <td>0</td>\n",
       "      <td>0</td>\n",
       "      <td>0</td>\n",
       "      <td>0</td>\n",
       "      <td>3475</td>\n",
       "      <td>7.251076</td>\n",
       "    </tr>\n",
       "    <tr>\n",
       "      <th>1</th>\n",
       "      <td>0</td>\n",
       "      <td>0</td>\n",
       "      <td>0</td>\n",
       "      <td>0</td>\n",
       "      <td>1</td>\n",
       "      <td>0</td>\n",
       "      <td>0</td>\n",
       "      <td>1</td>\n",
       "      <td>1</td>\n",
       "      <td>0</td>\n",
       "      <td>0</td>\n",
       "      <td>0</td>\n",
       "      <td>1</td>\n",
       "      <td>0</td>\n",
       "      <td>0</td>\n",
       "      <td>0</td>\n",
       "      <td>0</td>\n",
       "      <td>0</td>\n",
       "      <td>0</td>\n",
       "      <td>0</td>\n",
       "      <td>0</td>\n",
       "      <td>0</td>\n",
       "      <td>0</td>\n",
       "      <td>0</td>\n",
       "      <td>0</td>\n",
       "      <td>1</td>\n",
       "      <td>0</td>\n",
       "      <td>0</td>\n",
       "      <td>0</td>\n",
       "      <td>0</td>\n",
       "      <td>0</td>\n",
       "      <td>0</td>\n",
       "      <td>0</td>\n",
       "      <td>0</td>\n",
       "      <td>0</td>\n",
       "      <td>1</td>\n",
       "      <td>0</td>\n",
       "      <td>0</td>\n",
       "      <td>0</td>\n",
       "      <td>0</td>\n",
       "      <td>...</td>\n",
       "      <td>1</td>\n",
       "      <td>0</td>\n",
       "      <td>0</td>\n",
       "      <td>0</td>\n",
       "      <td>0</td>\n",
       "      <td>0</td>\n",
       "      <td>0</td>\n",
       "      <td>0</td>\n",
       "      <td>0</td>\n",
       "      <td>0</td>\n",
       "      <td>0</td>\n",
       "      <td>0</td>\n",
       "      <td>0</td>\n",
       "      <td>0</td>\n",
       "      <td>0</td>\n",
       "      <td>0</td>\n",
       "      <td>0</td>\n",
       "      <td>0</td>\n",
       "      <td>0</td>\n",
       "      <td>0</td>\n",
       "      <td>0</td>\n",
       "      <td>0</td>\n",
       "      <td>0</td>\n",
       "      <td>0</td>\n",
       "      <td>0</td>\n",
       "      <td>0</td>\n",
       "      <td>0</td>\n",
       "      <td>0</td>\n",
       "      <td>0</td>\n",
       "      <td>0</td>\n",
       "      <td>0</td>\n",
       "      <td>0</td>\n",
       "      <td>0</td>\n",
       "      <td>0</td>\n",
       "      <td>0</td>\n",
       "      <td>0</td>\n",
       "      <td>0</td>\n",
       "      <td>0</td>\n",
       "      <td>833</td>\n",
       "      <td>1.245799</td>\n",
       "    </tr>\n",
       "    <tr>\n",
       "      <th>2</th>\n",
       "      <td>0</td>\n",
       "      <td>0</td>\n",
       "      <td>0</td>\n",
       "      <td>0</td>\n",
       "      <td>1</td>\n",
       "      <td>0</td>\n",
       "      <td>0</td>\n",
       "      <td>1</td>\n",
       "      <td>0</td>\n",
       "      <td>1</td>\n",
       "      <td>0</td>\n",
       "      <td>0</td>\n",
       "      <td>1</td>\n",
       "      <td>0</td>\n",
       "      <td>0</td>\n",
       "      <td>0</td>\n",
       "      <td>0</td>\n",
       "      <td>0</td>\n",
       "      <td>0</td>\n",
       "      <td>0</td>\n",
       "      <td>0</td>\n",
       "      <td>0</td>\n",
       "      <td>0</td>\n",
       "      <td>0</td>\n",
       "      <td>0</td>\n",
       "      <td>1</td>\n",
       "      <td>0</td>\n",
       "      <td>0</td>\n",
       "      <td>0</td>\n",
       "      <td>0</td>\n",
       "      <td>0</td>\n",
       "      <td>0</td>\n",
       "      <td>0</td>\n",
       "      <td>0</td>\n",
       "      <td>0</td>\n",
       "      <td>1</td>\n",
       "      <td>0</td>\n",
       "      <td>0</td>\n",
       "      <td>0</td>\n",
       "      <td>0</td>\n",
       "      <td>...</td>\n",
       "      <td>1</td>\n",
       "      <td>0</td>\n",
       "      <td>0</td>\n",
       "      <td>0</td>\n",
       "      <td>0</td>\n",
       "      <td>0</td>\n",
       "      <td>0</td>\n",
       "      <td>0</td>\n",
       "      <td>0</td>\n",
       "      <td>0</td>\n",
       "      <td>0</td>\n",
       "      <td>0</td>\n",
       "      <td>0</td>\n",
       "      <td>0</td>\n",
       "      <td>0</td>\n",
       "      <td>0</td>\n",
       "      <td>0</td>\n",
       "      <td>0</td>\n",
       "      <td>0</td>\n",
       "      <td>0</td>\n",
       "      <td>0</td>\n",
       "      <td>0</td>\n",
       "      <td>0</td>\n",
       "      <td>0</td>\n",
       "      <td>0</td>\n",
       "      <td>0</td>\n",
       "      <td>0</td>\n",
       "      <td>0</td>\n",
       "      <td>0</td>\n",
       "      <td>0</td>\n",
       "      <td>0</td>\n",
       "      <td>0</td>\n",
       "      <td>0</td>\n",
       "      <td>0</td>\n",
       "      <td>0</td>\n",
       "      <td>0</td>\n",
       "      <td>0</td>\n",
       "      <td>0</td>\n",
       "      <td>569</td>\n",
       "      <td>2.164583</td>\n",
       "    </tr>\n",
       "    <tr>\n",
       "      <th>3</th>\n",
       "      <td>0</td>\n",
       "      <td>0</td>\n",
       "      <td>0</td>\n",
       "      <td>0</td>\n",
       "      <td>1</td>\n",
       "      <td>0</td>\n",
       "      <td>0</td>\n",
       "      <td>1</td>\n",
       "      <td>0</td>\n",
       "      <td>1</td>\n",
       "      <td>0</td>\n",
       "      <td>0</td>\n",
       "      <td>1</td>\n",
       "      <td>0</td>\n",
       "      <td>0</td>\n",
       "      <td>0</td>\n",
       "      <td>0</td>\n",
       "      <td>0</td>\n",
       "      <td>0</td>\n",
       "      <td>0</td>\n",
       "      <td>0</td>\n",
       "      <td>0</td>\n",
       "      <td>0</td>\n",
       "      <td>0</td>\n",
       "      <td>0</td>\n",
       "      <td>1</td>\n",
       "      <td>0</td>\n",
       "      <td>0</td>\n",
       "      <td>0</td>\n",
       "      <td>0</td>\n",
       "      <td>0</td>\n",
       "      <td>0</td>\n",
       "      <td>0</td>\n",
       "      <td>0</td>\n",
       "      <td>0</td>\n",
       "      <td>1</td>\n",
       "      <td>0</td>\n",
       "      <td>0</td>\n",
       "      <td>0</td>\n",
       "      <td>0</td>\n",
       "      <td>...</td>\n",
       "      <td>0</td>\n",
       "      <td>0</td>\n",
       "      <td>0</td>\n",
       "      <td>0</td>\n",
       "      <td>0</td>\n",
       "      <td>0</td>\n",
       "      <td>0</td>\n",
       "      <td>0</td>\n",
       "      <td>0</td>\n",
       "      <td>0</td>\n",
       "      <td>0</td>\n",
       "      <td>0</td>\n",
       "      <td>0</td>\n",
       "      <td>0</td>\n",
       "      <td>0</td>\n",
       "      <td>0</td>\n",
       "      <td>0</td>\n",
       "      <td>0</td>\n",
       "      <td>0</td>\n",
       "      <td>0</td>\n",
       "      <td>0</td>\n",
       "      <td>0</td>\n",
       "      <td>0</td>\n",
       "      <td>0</td>\n",
       "      <td>0</td>\n",
       "      <td>0</td>\n",
       "      <td>0</td>\n",
       "      <td>0</td>\n",
       "      <td>0</td>\n",
       "      <td>0</td>\n",
       "      <td>0</td>\n",
       "      <td>0</td>\n",
       "      <td>0</td>\n",
       "      <td>0</td>\n",
       "      <td>1</td>\n",
       "      <td>0</td>\n",
       "      <td>0</td>\n",
       "      <td>0</td>\n",
       "      <td>8374</td>\n",
       "      <td>27.190000</td>\n",
       "    </tr>\n",
       "    <tr>\n",
       "      <th>4</th>\n",
       "      <td>0</td>\n",
       "      <td>0</td>\n",
       "      <td>0</td>\n",
       "      <td>0</td>\n",
       "      <td>1</td>\n",
       "      <td>0</td>\n",
       "      <td>0</td>\n",
       "      <td>1</td>\n",
       "      <td>0</td>\n",
       "      <td>1</td>\n",
       "      <td>0</td>\n",
       "      <td>0</td>\n",
       "      <td>1</td>\n",
       "      <td>0</td>\n",
       "      <td>0</td>\n",
       "      <td>0</td>\n",
       "      <td>0</td>\n",
       "      <td>0</td>\n",
       "      <td>0</td>\n",
       "      <td>0</td>\n",
       "      <td>0</td>\n",
       "      <td>0</td>\n",
       "      <td>0</td>\n",
       "      <td>0</td>\n",
       "      <td>0</td>\n",
       "      <td>1</td>\n",
       "      <td>0</td>\n",
       "      <td>0</td>\n",
       "      <td>0</td>\n",
       "      <td>0</td>\n",
       "      <td>0</td>\n",
       "      <td>0</td>\n",
       "      <td>0</td>\n",
       "      <td>0</td>\n",
       "      <td>0</td>\n",
       "      <td>1</td>\n",
       "      <td>0</td>\n",
       "      <td>0</td>\n",
       "      <td>0</td>\n",
       "      <td>0</td>\n",
       "      <td>...</td>\n",
       "      <td>0</td>\n",
       "      <td>0</td>\n",
       "      <td>0</td>\n",
       "      <td>0</td>\n",
       "      <td>0</td>\n",
       "      <td>0</td>\n",
       "      <td>0</td>\n",
       "      <td>0</td>\n",
       "      <td>0</td>\n",
       "      <td>0</td>\n",
       "      <td>0</td>\n",
       "      <td>0</td>\n",
       "      <td>0</td>\n",
       "      <td>0</td>\n",
       "      <td>0</td>\n",
       "      <td>0</td>\n",
       "      <td>0</td>\n",
       "      <td>0</td>\n",
       "      <td>0</td>\n",
       "      <td>0</td>\n",
       "      <td>0</td>\n",
       "      <td>0</td>\n",
       "      <td>0</td>\n",
       "      <td>0</td>\n",
       "      <td>0</td>\n",
       "      <td>0</td>\n",
       "      <td>0</td>\n",
       "      <td>0</td>\n",
       "      <td>0</td>\n",
       "      <td>1</td>\n",
       "      <td>0</td>\n",
       "      <td>0</td>\n",
       "      <td>0</td>\n",
       "      <td>0</td>\n",
       "      <td>0</td>\n",
       "      <td>0</td>\n",
       "      <td>0</td>\n",
       "      <td>0</td>\n",
       "      <td>225</td>\n",
       "      <td>2.359745</td>\n",
       "    </tr>\n",
       "  </tbody>\n",
       "</table>\n",
       "<p>5 rows × 120 columns</p>\n",
       "</div>"
      ],
      "text/plain": [
       "   ACC2  ACC5  ACC15  ACC21  ...  ACC35_66  ACC35_67  ACC31_  diff_day_\n",
       "0     0     0      0      0  ...         0         0    3475   7.251076\n",
       "1     0     0      0      0  ...         0         0     833   1.245799\n",
       "2     0     0      0      0  ...         0         0     569   2.164583\n",
       "3     0     0      0      0  ...         0         0    8374  27.190000\n",
       "4     0     0      0      0  ...         0         0     225   2.359745\n",
       "\n",
       "[5 rows x 120 columns]"
      ]
     },
     "execution_count": 10,
     "metadata": {
      "tags": []
     },
     "output_type": "execute_result"
    }
   ],
   "source": [
    "df = df.drop(\"Unnamed: 0\", axis=1)\n",
    "df.head()"
   ]
  },
  {
   "cell_type": "markdown",
   "metadata": {
    "colab_type": "text",
    "id": "G1B1ERQ2vc9p"
   },
   "source": [
    "## 切割training data 和 validation data"
   ]
  },
  {
   "cell_type": "code",
   "execution_count": 0,
   "metadata": {
    "colab": {},
    "colab_type": "code",
    "id": "-tA3r18Gvc9p"
   },
   "outputs": [],
   "source": [
    "train_df_1, val_df_1 = train_test_split(df, test_size=0.1, random_state=0)"
   ]
  },
  {
   "cell_type": "markdown",
   "metadata": {
    "colab_type": "text",
    "id": "4kAFfU4ivc9q"
   },
   "source": [
    "## 算出train data的統計量"
   ]
  },
  {
   "cell_type": "code",
   "execution_count": 0,
   "metadata": {
    "colab": {},
    "colab_type": "code",
    "id": "c2l0udAjvc9r"
   },
   "outputs": [],
   "source": [
    "train_df_1 = train_df_1\n",
    "u = ori_get_data(train_df_1)[1]\n",
    "std = ori_get_data(train_df_1)[2]\n",
    "index = ori_get_data(train_df_1)[0]"
   ]
  },
  {
   "cell_type": "markdown",
   "metadata": {
    "colab_type": "text",
    "id": "twam2qGlvc9s"
   },
   "source": [
    "## train/validation data標準化"
   ]
  },
  {
   "cell_type": "code",
   "execution_count": 14,
   "metadata": {
    "colab": {
     "base_uri": "https://localhost:8080/",
     "height": 153
    },
    "colab_type": "code",
    "id": "TLtfeZG7vc9t",
    "outputId": "8add0081-cc51-4027-beca-0ce4b99353ef"
   },
   "outputs": [
    {
     "name": "stderr",
     "output_type": "stream",
     "text": [
      "/usr/local/lib/python3.6/dist-packages/ipykernel_launcher.py:5: SettingWithCopyWarning: \n",
      "A value is trying to be set on a copy of a slice from a DataFrame.\n",
      "Try using .loc[row_indexer,col_indexer] = value instead\n",
      "\n",
      "See the caveats in the documentation: http://pandas.pydata.org/pandas-docs/stable/indexing.html#indexing-view-versus-copy\n",
      "  \"\"\"\n"
     ]
    },
    {
     "name": "stdout",
     "output_type": "stream",
     "text": [
      "11475\n",
      "1275\n"
     ]
    }
   ],
   "source": [
    "train_df_sc_1 = scale_data(train_df_1,u,std,index)\n",
    "val_df_sc_1 = scale_data(val_df_1,u,std,index)\n",
    "print(len(train_df_sc_1))\n",
    "print(len(val_df_sc_1))"
   ]
  },
  {
   "cell_type": "code",
   "execution_count": 0,
   "metadata": {
    "colab": {},
    "colab_type": "code",
    "id": "ARm6yn8hvc9w"
   },
   "outputs": [],
   "source": [
    "mb_size = 500   #batch_size\n",
    "X_dim = train_df_sc_1.shape[1]\n",
    "\n",
    "hg_dim = [200,100,50,100,200]\n",
    "hd_dim = [200,150,50,25]\n",
    "lr_g = 1e-6\n",
    "lr_d = 1e-6\n",
    "lambda_ = 0.4"
   ]
  },
  {
   "cell_type": "markdown",
   "metadata": {
    "colab_type": "text",
    "id": "6YWxuPISvc9x"
   },
   "source": [
    "## 開始訓練"
   ]
  },
  {
   "cell_type": "code",
   "execution_count": 16,
   "metadata": {
    "colab": {
     "base_uri": "https://localhost:8080/",
     "height": 451
    },
    "colab_type": "code",
    "id": "WmmdIf3uvc9y",
    "outputId": "3d0fae74-8864-4198-e610-3476e83825b1"
   },
   "outputs": [
    {
     "name": "stderr",
     "output_type": "stream",
     "text": [
      "WARNING: Logging before flag parsing goes to stderr.\n",
      "W0618 05:42:33.867442 140153751037824 deprecation.py:323] From /usr/local/lib/python3.6/dist-packages/tensorflow/python/ops/losses/losses_impl.py:121: add_dispatch_support.<locals>.wrapper (from tensorflow.python.ops.array_ops) is deprecated and will be removed in a future version.\n",
      "Instructions for updating:\n",
      "Use tf.where in 2.0, which has the same broadcast rule as np.where\n"
     ]
    },
    {
     "name": "stdout",
     "output_type": "stream",
     "text": [
      "Iter: 0; D_loss:0.74; G_loss: 0.2114; g_test_loss: 0.03221 ; g_test_curr_loss =1e+05\n",
      "Iter: 1; D_loss:0.7624; G_loss: 0.2149; g_test_loss: 0.0324 ; g_test_curr_loss =1e+05\n",
      "Iter: 2; D_loss:0.7552; G_loss: 0.2195; g_test_loss: 0.03262 ; g_test_curr_loss =0.03262\n",
      "Iter: 3; D_loss:0.7721; G_loss: 0.2238; g_test_loss: 0.03279 ; g_test_curr_loss =0.03262\n"
     ]
    },
    {
     "data": {
      "image/png": "[encoded data removed]",
      "text/plain": [
       "<Figure size 432x288 with 1 Axes>"
      ]
     },
     "metadata": {
      "tags": []
     },
     "output_type": "display_data"
    }
   ],
   "source": [
    "def xavier_init(size):\n",
    "    in_dim = size[0]\n",
    "    xavier_stddev = 1. / tf.sqrt(in_dim / 2.)\n",
    "    return tf.random_normal(shape=size, stddev=xavier_stddev)\n",
    "  \n",
    "def huber_loss(x, pre):\n",
    "  return (abs(x)<=pre)*x**2/2 + (x>pre)*pre*(abs(x)-pre/2)\n",
    "\n",
    "def lrelu(x, leak=0.2, name=\"lrelu\"):\n",
    "  return tf.maximum(x, leak*x, name=name)\n",
    "\n",
    "\n",
    "X = tf.placeholder(tf.float32, shape=[None, X_dim])\n",
    "z = tf.placeholder(tf.float32, shape=[None, X_dim])\n",
    "\n",
    "D_W1 = tf.Variable(xavier_init([ X_dim, hd_dim[0]]))\n",
    "D_b1 = tf.Variable(tf.zeros(shape=[hd_dim[0]]))\n",
    "D_W2 = tf.Variable(xavier_init([ hd_dim[0], hd_dim[1]]))\n",
    "D_b2 = tf.Variable(tf.zeros(shape=[hd_dim[1]]))\n",
    "D_W3 = tf.Variable(xavier_init([ hd_dim[1], hd_dim[2]]))\n",
    "D_b3 = tf.Variable(tf.zeros(shape=[hd_dim[2]]))\n",
    "D_W4 = tf.Variable(xavier_init([ hd_dim[2], hd_dim[3]]))\n",
    "D_b4 = tf.Variable(tf.zeros(shape=[hd_dim[3]]))\n",
    "D_W5 = tf.Variable(xavier_init([ hd_dim[3], 1]))\n",
    "D_b5 = tf.Variable(tf.zeros(shape=[1]))\n",
    "\n",
    "G_W1 = tf.Variable(xavier_init([X_dim, hg_dim[0]]))\n",
    "G_b1 = tf.Variable(tf.zeros(shape=[hg_dim[0]]))\n",
    "G_W2 = tf.Variable(xavier_init([hg_dim[0], hg_dim[1]]))\n",
    "G_b2 = tf.Variable(tf.zeros(shape=[hg_dim[1]]))\n",
    "G_W3 = tf.Variable(xavier_init([hg_dim[1], hg_dim[2]]))\n",
    "G_b3 = tf.Variable(tf.zeros(shape=[hg_dim[2]]))\n",
    "G_W4 = tf.Variable(xavier_init([hg_dim[2], hg_dim[3]]))\n",
    "G_b4 = tf.Variable(tf.zeros(shape=[hg_dim[3]]))\n",
    "G_W5 = tf.Variable(xavier_init([hg_dim[3], hg_dim[4]]))\n",
    "G_b5 = tf.Variable(tf.zeros(shape=[hg_dim[4]]))\n",
    "G_W6 = tf.Variable(xavier_init([hg_dim[4], X_dim]))\n",
    "G_b6 = tf.Variable(tf.zeros(shape=[X_dim]))\n",
    "\n",
    "theta_G = [G_W1, G_W2, G_W3, G_W4, G_W5, G_W6, G_b1, G_b2, G_b3, G_b4, G_b5, G_b6]\n",
    "theta_D = [D_W1, D_W2, D_W3, D_W4, D_W5, D_b1, D_b2, D_b3, D_b4, D_b5]\n",
    "\n",
    "\n",
    "lossL1_d = tf.add_n([ tf.norm(D_W1) ]) * 0.0001\n",
    "lossL2_g = tf.add_n([ tf.nn.l2_loss(v) for v in theta_G ]) * 0.0001\n",
    "\n",
    "def get_noisy_data(df): #input array\n",
    "    n,p = df.shape\n",
    "    k = n//20\n",
    "    population  = np.arange(n)\n",
    "    \n",
    "    for i in range(p):\n",
    "        if len(np.unique(df[:,0])) <= 2:\n",
    "            index = np.random.choice(population,k)\n",
    "            df[index,i] = (df[index,i] + 1) % 2\n",
    "        else:\n",
    "            df[:,i]= df[:,i] + 0.05 * np.random.normal(0,1,(n,1)).reshape(n)\n",
    "\n",
    "    return df\n",
    "\n",
    "def generator(z):\n",
    "    G_h1 = tf.nn.leaky_relu(tf.matmul(z, G_W1) + G_b1)\n",
    "    G_h2 = tf.nn.leaky_relu(tf.matmul(G_h1, G_W2) + G_b2)\n",
    "    G_h3 = tf.nn.leaky_relu(tf.matmul(G_h2, G_W3) + G_b3)\n",
    "    G_h4 = tf.nn.leaky_relu(tf.matmul(G_h3, G_W4) + G_b4)\n",
    "    G_h5 = tf.nn.leaky_relu(tf.matmul(G_h4, G_W5) + G_b5)\n",
    "\n",
    "    G_log_prob = tf.matmul(G_h5, G_W6) + G_b6\n",
    "    G_prob_cat = tf.nn.sigmoid(G_log_prob[:, :-2])\n",
    "    G_prob = tf.concat([G_prob_cat,G_log_prob[:, -2:]], -1)\n",
    "                     \n",
    "    return G_prob\n",
    "\n",
    "\n",
    "def discriminator(x):\n",
    "    D_h1 = lrelu(tf.matmul(x, D_W1) + D_b1)\n",
    "\n",
    "    D_h2 = lrelu(tf.matmul(D_h1, D_W2) + D_b2)\n",
    "    D_h3 = lrelu(tf.matmul(D_h2, D_W3) + D_b3)\n",
    "    D_h4 = lrelu(tf.matmul(D_h3, D_W4) + D_b4)\n",
    "    out = tf.matmul(D_h4, D_W5) + D_b5\n",
    "    \n",
    "    return out\n",
    "\n",
    "\n",
    "G_sample = generator(z)\n",
    "\n",
    "D_real = discriminator(X)\n",
    "D_fake = discriminator(G_sample)\n",
    "\n",
    "#D_loss = tf.reduce_mean(tf.nn.l2_loss(tf.ones_like(D_real) - D_real) + tf.nn.l2_loss(tf.ones_like(D_fake) * (-1) - D_fake)) + lossL1_d\n",
    "D_loss = tf.reduce_mean(tf.losses.huber_loss(tf.ones_like(D_real), D_real) + tf.losses.huber_loss(tf.ones_like(D_fake) * (-1), D_fake)) + lossL1_d\n",
    "\n",
    "\n",
    "lr_loss = tf.reduce_mean((X - G_sample)**2)\n",
    "G_loss = tf.losses.huber_loss(labels = tf.zeros_like(D_fake), predictions = D_fake) + lossL2_g\n",
    "\n",
    "G_total_loss = lambda_ * lr_loss + G_loss\n",
    "\n",
    "D_solver = (tf.train.AdamOptimizer(learning_rate=lr_d).minimize(D_loss, var_list=theta_D))\n",
    "G_solver = (tf.train.AdamOptimizer(learning_rate=lr_g).minimize(G_total_loss, var_list=theta_G))\n",
    "\n",
    "sess = tf.Session()\n",
    "sess.run(tf.global_variables_initializer())\n",
    "\n",
    "\n",
    "i = 0\n",
    "D_loss_currs = []\n",
    "G_loss_currs = []\n",
    "\n",
    "\n",
    "pre_G_loss_curr = 0\n",
    "pre_D_loss_curr = 0\n",
    "\n",
    "g_test_curr_loss = 100000.\n",
    "g_test_loss = 0.\n",
    "X_test_batch = val_df_sc_1[: mb_size].astype(np.float32)\n",
    "for it in range(100000):\n",
    "    batch_idxs = len(train_df_sc_1) // mb_size\n",
    "    \n",
    "    for idx in range(0, batch_idxs):\n",
    "        X_mb_batch = train_df_sc_1[idx * mb_size:(idx + 1) * mb_size]\n",
    "        z_mb = get_noisy_data(X_mb_batch)\n",
    "       \n",
    "      \n",
    "        while(1):\n",
    "            _, D_loss_curr = sess.run( [D_solver, D_loss], feed_dict={X: X_mb_batch, z: z_mb})\n",
    "            if (pre_D_loss_curr > D_loss_curr) and (pre_D_loss_curr - D_loss_curr < 1e-3):\n",
    "              break\n",
    "            pre_D_loss_curr = D_loss_curr\n",
    "\n",
    "        while(1):\n",
    "            _, G_loss_curr = sess.run( [G_solver, G_total_loss], feed_dict={X: X_mb_batch, z: z_mb})\n",
    "            if (pre_G_loss_curr > G_loss_curr) and (pre_G_loss_curr - G_loss_curr < 1e-4):\n",
    "              break\n",
    "            pre_G_loss_curr = G_loss_curr\n",
    "\n",
    "            \n",
    "    g_test_loss = np.mean(huber_loss(X_test_batch, sess.run(generator(X_test_batch))))\n",
    "    G_loss_currs.append(G_loss_curr)\n",
    "    D_loss_currs.append(D_loss_curr)\n",
    "    if it > 0 and it % 2 == 0:\n",
    "      \n",
    "      if (g_test_curr_loss - g_test_loss) < 0 :\n",
    "        i = i+1\n",
    "        if i == 1:\n",
    "            plt.title('losses epoch = %s'%(it))\n",
    "            plt.xlabel('Epoch')\n",
    "            plt.ylabel('training loss')\n",
    "            plt.grid()\n",
    "\n",
    "            plt.plot(G_loss_currs,\"r\",label = 'g-loss')\n",
    "            plt.plot(D_loss_currs,\"b\",label = 'd-loss')\n",
    "            plt.legend()\n",
    "            plt.savefig('plot_g_recon_losses_{}.png'.format(it))\n",
    "            break\n",
    "            \n",
    "      g_test_curr_loss = g_test_loss\n",
    "        \n",
    "        \n",
    "    \n",
    "    print('Iter: {}; D_loss:{:.4}; G_loss: {:.4}; g_test_loss: {:.4} ; g_test_curr_loss ={:.4}'.format(it,D_loss_curr,G_loss_curr,g_test_loss,g_test_curr_loss))\n"
   ]
  },
  {
   "cell_type": "markdown",
   "metadata": {
    "colab_type": "text",
    "id": "xD75V8bIvc90"
   },
   "source": [
    "## 帶入train_1檢測"
   ]
  },
  {
   "cell_type": "code",
   "execution_count": 17,
   "metadata": {
    "colab": {
     "base_uri": "https://localhost:8080/",
     "height": 136
    },
    "colab_type": "code",
    "id": "frZ_xuW6vc90",
    "outputId": "d8f31e51-c99e-4a8f-d5a8-e28d46566df5"
   },
   "outputs": [
    {
     "data": {
      "text/plain": [
       "array([[-0.44518492],\n",
       "       [ 0.11148699],\n",
       "       [-0.09586467],\n",
       "       ...,\n",
       "       [ 0.24075824],\n",
       "       [ 0.59472144],\n",
       "       [ 0.59425443]], dtype=float32)"
      ]
     },
     "execution_count": 17,
     "metadata": {
      "tags": []
     },
     "output_type": "execute_result"
    }
   ],
   "source": [
    "predict_train = sess.run(discriminator(train_df_sc_1.astype(np.float32)))\n",
    "predict_train"
   ]
  },
  {
   "cell_type": "markdown",
   "metadata": {
    "colab_type": "text",
    "id": "a0LS3Xfkvc92"
   },
   "source": [
    "## 畫train_1的 score分佈圖"
   ]
  },
  {
   "cell_type": "code",
   "execution_count": 18,
   "metadata": {
    "colab": {
     "base_uri": "https://localhost:8080/",
     "height": 473
    },
    "colab_type": "code",
    "id": "hzPBA9DQvc92",
    "outputId": "d0abafd8-e2a4-41bd-818a-38ae450c5ba1",
    "scrolled": true
   },
   "outputs": [
    {
     "name": "stderr",
     "output_type": "stream",
     "text": [
      "/usr/local/lib/python3.6/dist-packages/ipykernel_launcher.py:1: SettingWithCopyWarning: \n",
      "A value is trying to be set on a copy of a slice from a DataFrame.\n",
      "Try using .loc[row_indexer,col_indexer] = value instead\n",
      "\n",
      "See the caveats in the documentation: http://pandas.pydata.org/pandas-docs/stable/indexing.html#indexing-view-versus-copy\n",
      "  \"\"\"Entry point for launching an IPython kernel.\n",
      "/usr/local/lib/python3.6/dist-packages/ipykernel_launcher.py:2: SettingWithCopyWarning: \n",
      "A value is trying to be set on a copy of a slice from a DataFrame.\n",
      "Try using .loc[row_indexer,col_indexer] = value instead\n",
      "\n",
      "See the caveats in the documentation: http://pandas.pydata.org/pandas-docs/stable/indexing.html#indexing-view-versus-copy\n",
      "  \n"
     ]
    },
    {
     "data": {
      "image/png": "[encoded data removed]",
      "text/plain": [
       "<Figure size 432x288 with 1 Axes>"
      ]
     },
     "metadata": {
      "tags": []
     },
     "output_type": "display_data"
    }
   ],
   "source": [
    "train_df_1[\"pre\"] = predict_train\n",
    "train_df_1[\"pre\"] = round(train_df_1[\"pre\"], 3)\n",
    "plt.bar(pd.value_counts(train_df_1[\"pre\"]).index, pd.value_counts(train_df_1[\"pre\"]).values, color=['b'], width=0.005)\n",
    "plt.show()"
   ]
  },
  {
   "cell_type": "markdown",
   "metadata": {
    "colab_type": "text",
    "id": "yePVsMyHvc94"
   },
   "source": [
    "## 帶入validation_1檢測"
   ]
  },
  {
   "cell_type": "code",
   "execution_count": 19,
   "metadata": {
    "colab": {
     "base_uri": "https://localhost:8080/",
     "height": 136
    },
    "colab_type": "code",
    "id": "NHPN_e1Evc95",
    "outputId": "c46e7f5e-d985-4b5b-f75b-3b018518a913"
   },
   "outputs": [
    {
     "data": {
      "text/plain": [
       "array([[ 0.3929927 ],\n",
       "       [ 0.12873659],\n",
       "       [-0.03947731],\n",
       "       ...,\n",
       "       [ 0.05705607],\n",
       "       [ 0.31669444],\n",
       "       [ 0.20855829]], dtype=float32)"
      ]
     },
     "execution_count": 19,
     "metadata": {
      "tags": []
     },
     "output_type": "execute_result"
    }
   ],
   "source": [
    "predict_val = sess.run(discriminator(val_df_sc_1.astype(np.float32)))\n",
    "predict_val"
   ]
  },
  {
   "cell_type": "markdown",
   "metadata": {
    "colab_type": "text",
    "id": "3i3rpglMvc97"
   },
   "source": [
    "## 畫validation_1 的 score分佈圖"
   ]
  },
  {
   "cell_type": "code",
   "execution_count": 20,
   "metadata": {
    "colab": {
     "base_uri": "https://localhost:8080/",
     "height": 485
    },
    "colab_type": "code",
    "id": "taiFQ9Bwvc99",
    "outputId": "8be1162a-60c3-48b2-edfa-f9b0a32ca488"
   },
   "outputs": [
    {
     "name": "stderr",
     "output_type": "stream",
     "text": [
      "/usr/local/lib/python3.6/dist-packages/ipykernel_launcher.py:1: SettingWithCopyWarning: \n",
      "A value is trying to be set on a copy of a slice from a DataFrame.\n",
      "Try using .loc[row_indexer,col_indexer] = value instead\n",
      "\n",
      "See the caveats in the documentation: http://pandas.pydata.org/pandas-docs/stable/indexing.html#indexing-view-versus-copy\n",
      "  \"\"\"Entry point for launching an IPython kernel.\n",
      "/usr/local/lib/python3.6/dist-packages/ipykernel_launcher.py:2: SettingWithCopyWarning: \n",
      "A value is trying to be set on a copy of a slice from a DataFrame.\n",
      "Try using .loc[row_indexer,col_indexer] = value instead\n",
      "\n",
      "See the caveats in the documentation: http://pandas.pydata.org/pandas-docs/stable/indexing.html#indexing-view-versus-copy\n",
      "  \n"
     ]
    },
    {
     "data": {
      "image/png": "[encoded data removed]",
      "text/plain": [
       "<Figure size 432x288 with 1 Axes>"
      ]
     },
     "metadata": {
      "tags": []
     },
     "output_type": "display_data"
    }
   ],
   "source": [
    "val_df_1[\"pre\"] = predict_val\n",
    "val_df_1[\"pre\"] = round(val_df_1[\"pre\"], 3)\n",
    "plt.title('Score of Histogram')\n",
    "plt.bar(pd.value_counts(train_df_1[\"pre\"]).index, pd.value_counts(train_df_1[\"pre\"]).values/len(train_df_1), color=['b'], width = 0.002,label = 'train use_ibox')\n",
    "plt.bar(pd.value_counts(val_df_1[\"pre\"]).index, pd.value_counts(val_df_1[\"pre\"]).values/len(val_df_1), color=['r'], width = 0.002,label = 'test use_ibox')\n",
    "plt.legend()\n",
    "plt.show()"
   ]
  },
  {
   "cell_type": "code",
   "execution_count": 0,
   "metadata": {
    "colab": {},
    "colab_type": "code",
    "id": "R3RBCtdIvc-B"
   },
   "outputs": [],
   "source": [
    "def plot_confusion_matrix(cm, classes,\n",
    "                          normalize=False,\n",
    "                          title='Confusion matrix',\n",
    "                          cmap=plt.cm.Blues):\n",
    "    \"\"\"\n",
    "    This function prints and plots the confusion matrix.\n",
    "    Normalization can be applied by setting normalize=True.\n",
    "    \"\"\"\n",
    "    plt.imshow(cm, interpolation='nearest', cmap=cmap)\n",
    "    plt.title(title)\n",
    "    plt.colorbar()\n",
    "    tick_marks = np.arange(len(classes))\n",
    "    plt.xticks(tick_marks, classes, rotation=0)\n",
    "    plt.yticks(tick_marks, classes)\n",
    "\n",
    "    if normalize:\n",
    "        cm = cm.astype('float') / cm.sum(axis=1)[:, np.newaxis]\n",
    "        #print(\"Normalized confusion matrix\")\n",
    "    else:\n",
    "        1#print('Confusion matrix, without normalization')\n",
    "\n",
    "    #print(cm)\n",
    "\n",
    "    thresh = cm.max() / 2.\n",
    "    for i, j in itertools.product(range(cm.shape[0]), range(cm.shape[1])):\n",
    "        plt.text(j, i, cm[i, j],\n",
    "                 horizontalalignment=\"center\",\n",
    "                 color=\"white\" if cm[i, j] > thresh else \"black\")\n",
    "\n",
    "    plt.tight_layout()\n",
    "    plt.ylabel('True label')\n",
    "    plt.xlabel('Predicted label')"
   ]
  },
  {
   "cell_type": "code",
   "execution_count": 0,
   "metadata": {
    "colab": {},
    "colab_type": "code",
    "id": "8HaVx9UKvc-D"
   },
   "outputs": [],
   "source": [
    "cnf_matrix = confusion_matrix(np.array(y), np.round(predict_0[1],0).T[0])"
   ]
  },
  {
   "cell_type": "code",
   "execution_count": 0,
   "metadata": {
    "colab": {},
    "colab_type": "code",
    "id": "cHM3PhKLvc-G",
    "scrolled": false
   },
   "outputs": [],
   "source": [
    "from itertools import cycle\n",
    "class_names = [0,1]\n",
    "plt.figure()\n",
    "plot_confusion_matrix(cnf_matrix, classes=class_names, title='Confusion matrix')\n",
    "plt.show()"
   ]
  },
  {
   "cell_type": "markdown",
   "metadata": {
    "colab_type": "text",
    "id": "zrKnROMMvc-H"
   },
   "source": [
    "## Plot ROC"
   ]
  },
  {
   "cell_type": "code",
   "execution_count": 0,
   "metadata": {
    "colab": {},
    "colab_type": "code",
    "id": "X76dln0_vc-H",
    "scrolled": true
   },
   "outputs": [],
   "source": [
    "fpr, tpr, thresholds = roc_curve(np.array(y), np.round(predict_0[1],0).T[0])\n",
    "roc_auc = auc(fpr,tpr)\n",
    "plt.title('Receiver Operating Characteristic')\n",
    "plt.plot(fpr, tpr, 'b',label='AUC = %0.2f'% roc_auc)\n",
    "plt.legend(loc='lower right')\n",
    "plt.plot([0,1],[0,1],'r--')\n",
    "plt.xlim([-0.1,1.0])\n",
    "plt.ylim([-0.1,1.01])\n",
    "plt.ylabel('True Positive Rate')\n",
    "plt.xlabel('False Positive Rate')\n",
    "plt.show()"
   ]
  },
  {
   "cell_type": "markdown",
   "metadata": {
    "colab_type": "text",
    "id": "4A9nSJ4cvc-J"
   },
   "source": [
    "## 散佈圖"
   ]
  },
  {
   "cell_type": "code",
   "execution_count": 0,
   "metadata": {
    "colab": {},
    "colab_type": "code",
    "id": "2VRgFApjvc-J"
   },
   "outputs": [],
   "source": [
    "def tsne_plot(x1, y1, name=\"graph.png\"):\n",
    "    tsne = TSNE(n_components=2, random_state=0)\n",
    "    X_t = tsne.fit_transform(x1)\n",
    "\n",
    "    plt.figure(figsize=(12, 8))\n",
    "    plt.scatter(X_t[np.where(y1 == 0), 0], X_t[np.where(y1 == 0), 1], marker='o', color='g', linewidth='1', alpha=0.8, label='Non Fraud')\n",
    "    plt.scatter(X_t[np.where(y1 == 1), 0], X_t[np.where(y1 == 1), 1], marker='o', color='r', linewidth='1', alpha=0.8, label='Fraud')\n",
    "\n",
    "    plt.legend(loc='best');\n",
    "    plt.savefig(name);\n",
    "    plt.show();\n",
    "    \n",
    "tsne_plot(X, Y, \"original.png\")"
   ]
  },
  {
   "cell_type": "markdown",
   "metadata": {
    "colab_type": "text",
    "id": "Jq2gF9Xlvc-L"
   },
   "source": [
    "### 有用i郵箱預測是否特約"
   ]
  },
  {
   "cell_type": "code",
   "execution_count": 0,
   "metadata": {
    "colab": {},
    "colab_type": "code",
    "id": "2-uJSRAjvc-L"
   },
   "outputs": [],
   "source": [
    "sum(df['ACC2']==1)"
   ]
  },
  {
   "cell_type": "markdown",
   "metadata": {
    "colab_type": "text",
    "id": "3BGyQW41vc-M"
   },
   "source": [
    "## -----------------------------------------------"
   ]
  },
  {
   "cell_type": "markdown",
   "metadata": {
    "colab_type": "text",
    "id": "-6DhV_lXvc-N"
   },
   "source": [
    "## testing data"
   ]
  },
  {
   "cell_type": "code",
   "execution_count": 0,
   "metadata": {
    "colab": {},
    "colab_type": "code",
    "id": "Qvxqy5duvc-N"
   },
   "outputs": [],
   "source": [
    "import pandas as pd \n",
    "# data_reader = pd.read_csv(\"all_table_check_new.csv\",engine='python', encoding='ANSI', chunksize=10000)\n",
    "#初始化一个DataFrame\n",
    "data_all = pd.DataFrame()\n",
    "i = 0\n",
    "for chunk in pd.read_csv(\"all_table_check_new.csv\",engine='python', encoding='ANSI', chunksize=10000):\n",
    "    chunk = chunk[chunk['ACC16_nan'] == 0 ]\n",
    "    chunk = chunk[chunk['ACC24_nan'] == 0 ]\n",
    "    chunk = chunk[chunk['ACC10_nan'] == 0 ]\n",
    "    chunk = chunk[chunk['ACC7_nan'] == 0 ]\n",
    "    chunk = chunk[chunk['ACC12_ACC13_nan'] == 0 ]\n",
    "    chunk = chunk[chunk['ACC18_nan'] == 0 ]\n",
    "    chunk = chunk[chunk['ACC24_nan'] == 0 ]\n",
    "    chunk = chunk[chunk['ACC29_nan'] == 0 ]\n",
    "    \n",
    "    chunk['ACC35_00'] = chunk['ACC35_00'] + chunk['ACC35_nan'] \n",
    "    data_no = chunk.drop(['ACC19','ACC1','ACC17','ACC28','ACC7_nan','ACC36_F','ACC36_R','ACC36_nan','ACC16_nan','TT2',\n",
    "              'ACC24_nan','y','ACC26_1','ACC26_2','ACC26_nan','ACC29_nan','ACC35_nan','ACC1','ACC10_nan','ACC12_ACC13_nan','ACC18_nan'], axis=1)\n",
    "    data_no_i = scale_data(data_no,u,std,index)\n",
    "    predict_no_y = sess.run(discriminator(data_no_i.astype(np.float32)))\n",
    "    data_no['label'] = chunk['y']\n",
    "    \n",
    "    chunk['pre'] = predict_no_y\n",
    "    chunk['pre'] = round(chunk['pre'],3)\n",
    "\n",
    "    if i==0:\n",
    "        chunk.to_csv('C:/Users/User/Desktop/all_table_noquot.csv', header=True, mode='a', index=0)\n",
    "\n",
    "        i = i +1\n",
    "    else:\n",
    "        chunk.to_csv('C:/Users/User/Desktop/all_table_noquot.csv', header=False, mode='a', index=0)"
   ]
  },
  {
   "cell_type": "code",
   "execution_count": 0,
   "metadata": {
    "colab": {},
    "colab_type": "code",
    "id": "NWayDoSSvc-P"
   },
   "outputs": [],
   "source": [
    "import pandas as pd \n",
    "data_reader = pd.read_csv(\"all_table_noquot.csv\", chunksize=100000, memory_map = True) \n",
    "#初始化一个DataFrame\n",
    "data_all = pd.DataFrame()\n",
    "i = 0\n",
    "for chunk in data_reader:\n",
    "    data_all = data_all.append(chunk)\n",
    "    i = i +1\n",
    "    if i==1:\n",
    "        break\n",
    "print(data_all.shape)"
   ]
  },
  {
   "cell_type": "code",
   "execution_count": 0,
   "metadata": {
    "colab": {},
    "colab_type": "code",
    "id": "-0YKTKSrvc-S"
   },
   "outputs": [],
   "source": [
    "data_all = data_all[data_all['ACC16_nan'] == 0 ]\n",
    "data_all = data_all[data_all['ACC24_nan'] == 0 ]\n",
    "data_all = data_all[data_all['ACC10_nan'] == 0 ]\n",
    "data_all = data_all[data_all['ACC7_nan'] == 0 ]\n",
    "data_all = data_all[data_all['ACC12_ACC13_nan'] == 0 ]\n",
    "data_all = data_all[data_all['ACC18_nan'] == 0 ]\n",
    "data_all = data_all[data_all['ACC24_nan'] == 0 ]\n",
    "data_all = data_all[data_all['ACC29_nan'] == 0 ]"
   ]
  },
  {
   "cell_type": "code",
   "execution_count": 0,
   "metadata": {
    "colab": {},
    "colab_type": "code",
    "id": "ij7mVWNovc-T"
   },
   "outputs": [],
   "source": [
    "data_all['ACC35_00'] = data_all['ACC35_00'] + data_all['ACC35_nan'] \n",
    "data_no = data_all.drop(['ACC19','ACC1','ACC17','ACC28','ACC7_nan','ACC36_F','ACC36_R','ACC36_nan','ACC16_nan','TT2',\n",
    "              'ACC24_nan','y','ACC26_1','ACC26_2','ACC26_nan','ACC29_nan','ACC35_nan','ACC1','ACC10_nan','ACC12_ACC13_nan','ACC18_nan'], axis=1)\n",
    "print(data_no.shape)\n"
   ]
  },
  {
   "cell_type": "code",
   "execution_count": 0,
   "metadata": {
    "colab": {},
    "colab_type": "code",
    "id": "faLx_laSvc-V",
    "scrolled": true
   },
   "outputs": [],
   "source": [
    "data_no_i = scale_data(data_no,u,std,index)"
   ]
  },
  {
   "cell_type": "code",
   "execution_count": 0,
   "metadata": {
    "colab": {},
    "colab_type": "code",
    "id": "0Y-dDgTsvc-W"
   },
   "outputs": [],
   "source": [
    "predict_no_y = sess.run(discriminator(data_no_i.astype(np.float32)))\n",
    "sum(predict_no_y > 0)"
   ]
  },
  {
   "cell_type": "code",
   "execution_count": 0,
   "metadata": {
    "colab": {},
    "colab_type": "code",
    "id": "4IJjuI1evc-X"
   },
   "outputs": [],
   "source": [
    "data_no['label'] = data_all['y']"
   ]
  },
  {
   "cell_type": "code",
   "execution_count": 0,
   "metadata": {
    "colab": {},
    "colab_type": "code",
    "id": "QTM26kCLvc-Z"
   },
   "outputs": [],
   "source": [
    "data_no['pre'] = predict_no_y\n",
    "data_no['pre'] = round(data_no['pre'],3)\n",
    "plt.bar(pd.value_counts(data_no[\"pre\"]).index, pd.value_counts(data_no[\"pre\"]).values/len(data_no), color=['b'], width=0.005)\n",
    "plt.show()"
   ]
  },
  {
   "cell_type": "markdown",
   "metadata": {
    "colab_type": "text",
    "id": "W2DvUprAvc-a"
   },
   "source": [
    "## bar"
   ]
  },
  {
   "cell_type": "code",
   "execution_count": 0,
   "metadata": {
    "colab": {},
    "colab_type": "code",
    "id": "9sn4nWzkvc-b"
   },
   "outputs": [],
   "source": [
    "df_test[\"pre\"] = predict_all\n",
    "df_test.head()"
   ]
  },
  {
   "cell_type": "code",
   "execution_count": 0,
   "metadata": {
    "colab": {},
    "colab_type": "code",
    "id": "RwUPmiwWvc-d"
   },
   "outputs": [],
   "source": [
    "df_test_1 = df_test[df_test[\"y\"]==1]\n",
    "df_test_0 = df_test[df_test[\"y\"]==0]"
   ]
  },
  {
   "cell_type": "code",
   "execution_count": 0,
   "metadata": {
    "colab": {},
    "colab_type": "code",
    "id": "amkyGYP2vc-e"
   },
   "outputs": [],
   "source": [
    "plt.bar(pd.value_counts(df_test_0[\"pre\"]).index, pd.value_counts(df_test_0[\"pre\"]).values, color=['b'], width=0.1)\n",
    "plt.bar(pd.value_counts(df_test_1[\"pre\"]).index, pd.value_counts(df_test_1[\"pre\"]).values, color=['r'], width=0.4)\n",
    "plt.show()"
   ]
  },
  {
   "cell_type": "markdown",
   "metadata": {
    "colab_type": "text",
    "id": "eMMRH6Prvc-g"
   },
   "source": [
    "## f1_score 、 confusion_matrix"
   ]
  },
  {
   "cell_type": "code",
   "execution_count": 0,
   "metadata": {
    "colab": {},
    "colab_type": "code",
    "id": "ObVj47Sbvc-g"
   },
   "outputs": [],
   "source": [
    "f1_score(data_no['label'], data_no['pre']>=-1, average='binary')"
   ]
  },
  {
   "cell_type": "code",
   "execution_count": 0,
   "metadata": {
    "colab": {},
    "colab_type": "code",
    "id": "zJaneRLFvc-i"
   },
   "outputs": [],
   "source": [
    "matrix = confusion_matrix(data_no['label'],data_no['pre'] >= 0)\n",
    "matrix = matrix/len(data_no)"
   ]
  },
  {
   "cell_type": "code",
   "execution_count": 0,
   "metadata": {
    "colab": {},
    "colab_type": "code",
    "id": "bvtbPDxnvc-p"
   },
   "outputs": [],
   "source": [
    "df_cm = pd.DataFrame(matrix)\n",
    "df_cm.columns = ['score < 0','score > 0']\n",
    "df_cm.index = ['use i-box','no use i-box']\n",
    "df_cm"
   ]
  },
  {
   "cell_type": "code",
   "execution_count": 0,
   "metadata": {
    "colab": {},
    "colab_type": "code",
    "id": "TMux_8p_vc-t",
    "scrolled": true
   },
   "outputs": [],
   "source": [
    "f, ax = plt.subplots(figsize = (5, 5))\n",
    "\n",
    "cmap = sns.cubehelix_palette(start = 1, rot = 3, gamma=0.8, as_cmap = True)\n",
    "sns.heatmap(df_cm, annot=True, cmap = cmap, linewidths = 0.05, ax = ax, annot_kws={'size':1})\n",
    "ax.set_title('Amounts per kind and region')\n",
    "ax.set_xticklabels(ax.get_xticklabels(), rotation=0)\n",
    "ax.set_yticklabels(ax.get_yticklabels(), rotation=0)\n",
    "\n"
   ]
  },
  {
   "cell_type": "code",
   "execution_count": 0,
   "metadata": {
    "colab": {},
    "colab_type": "code",
    "id": "keRck3Bevc-w"
   },
   "outputs": [],
   "source": [
    "import seaborn as sns\n",
    "df_cm = pd.DataFrame(matrix)\n",
    "sns.set(style=\"ticks\")\n",
    "sns.heatmap(df_cm)"
   ]
  },
  {
   "cell_type": "code",
   "execution_count": 0,
   "metadata": {
    "colab": {},
    "colab_type": "code",
    "id": "4i6PZ3wCvc-3"
   },
   "outputs": [],
   "source": [
    "df = pd.read_csv(\"all_table_noquot.csv\")\n",
    "df.head()"
   ]
  }
 ],
 "metadata": {
  "accelerator": "GPU",
  "colab": {
   "name": "528LSgan_model.ipynb",
   "provenance": [],
   "version": "0.3.2"
  },
  "kernelspec": {
   "display_name": "Python 3",
   "language": "python",
   "name": "python3"
  },
  "language_info": {
   "codemirror_mode": {
    "name": "ipython",
    "version": 3
   },
   "file_extension": ".py",
   "mimetype": "text/x-python",
   "name": "python",
   "nbconvert_exporter": "python",
   "pygments_lexer": "ipython3",
   "version": "3.7.3"
  }
 },
 "nbformat": 4,
 "nbformat_minor": 1
}
