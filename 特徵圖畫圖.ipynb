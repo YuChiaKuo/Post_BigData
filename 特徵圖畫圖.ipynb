{
 "cells": [
  {
   "cell_type": "code",
   "execution_count": 1,
   "metadata": {},
   "outputs": [],
   "source": [
    "import numpy as np\n",
    "import pandas as pd\n",
    "import matplotlib.pyplot as plt"
   ]
  },
  {
   "cell_type": "code",
   "execution_count": 2,
   "metadata": {},
   "outputs": [
    {
     "data": {
      "text/html": [
       "<div>\n",
       "<style scoped>\n",
       "    .dataframe tbody tr th:only-of-type {\n",
       "        vertical-align: middle;\n",
       "    }\n",
       "\n",
       "    .dataframe tbody tr th {\n",
       "        vertical-align: top;\n",
       "    }\n",
       "\n",
       "    .dataframe thead th {\n",
       "        text-align: right;\n",
       "    }\n",
       "</style>\n",
       "<table border=\"1\" class=\"dataframe\">\n",
       "  <thead>\n",
       "    <tr style=\"text-align: right;\">\n",
       "      <th></th>\n",
       "      <th>ACC1</th>\n",
       "      <th>ACC2</th>\n",
       "      <th>ACC5</th>\n",
       "      <th>ACC15</th>\n",
       "      <th>ACC17</th>\n",
       "      <th>ACC19</th>\n",
       "      <th>ACC21</th>\n",
       "      <th>ACC22</th>\n",
       "      <th>ACC23</th>\n",
       "      <th>ACC25</th>\n",
       "      <th>...</th>\n",
       "      <th>ACC35_62</th>\n",
       "      <th>ACC35_63</th>\n",
       "      <th>ACC35_64</th>\n",
       "      <th>ACC35_65</th>\n",
       "      <th>ACC35_66</th>\n",
       "      <th>ACC35_67</th>\n",
       "      <th>ACC35_nan</th>\n",
       "      <th>ACC36_F</th>\n",
       "      <th>ACC36_R</th>\n",
       "      <th>ACC36_nan</th>\n",
       "    </tr>\n",
       "  </thead>\n",
       "  <tbody>\n",
       "    <tr>\n",
       "      <th>0</th>\n",
       "      <td>\"704048\"</td>\n",
       "      <td>0</td>\n",
       "      <td>0</td>\n",
       "      <td>0</td>\n",
       "      <td>0</td>\n",
       "      <td>0</td>\n",
       "      <td>0</td>\n",
       "      <td>1</td>\n",
       "      <td>0</td>\n",
       "      <td>0</td>\n",
       "      <td>...</td>\n",
       "      <td>0</td>\n",
       "      <td>0</td>\n",
       "      <td>0</td>\n",
       "      <td>0</td>\n",
       "      <td>0</td>\n",
       "      <td>0</td>\n",
       "      <td>1</td>\n",
       "      <td>0</td>\n",
       "      <td>0</td>\n",
       "      <td>1</td>\n",
       "    </tr>\n",
       "    <tr>\n",
       "      <th>1</th>\n",
       "      <td>\"400030\"</td>\n",
       "      <td>0</td>\n",
       "      <td>0</td>\n",
       "      <td>0</td>\n",
       "      <td>0</td>\n",
       "      <td>0</td>\n",
       "      <td>0</td>\n",
       "      <td>1</td>\n",
       "      <td>0</td>\n",
       "      <td>0</td>\n",
       "      <td>...</td>\n",
       "      <td>0</td>\n",
       "      <td>0</td>\n",
       "      <td>0</td>\n",
       "      <td>0</td>\n",
       "      <td>0</td>\n",
       "      <td>0</td>\n",
       "      <td>1</td>\n",
       "      <td>0</td>\n",
       "      <td>0</td>\n",
       "      <td>1</td>\n",
       "    </tr>\n",
       "    <tr>\n",
       "      <th>2</th>\n",
       "      <td>\"100029\"</td>\n",
       "      <td>0</td>\n",
       "      <td>0</td>\n",
       "      <td>0</td>\n",
       "      <td>0</td>\n",
       "      <td>0</td>\n",
       "      <td>0</td>\n",
       "      <td>1</td>\n",
       "      <td>0</td>\n",
       "      <td>0</td>\n",
       "      <td>...</td>\n",
       "      <td>0</td>\n",
       "      <td>0</td>\n",
       "      <td>0</td>\n",
       "      <td>0</td>\n",
       "      <td>0</td>\n",
       "      <td>0</td>\n",
       "      <td>1</td>\n",
       "      <td>0</td>\n",
       "      <td>0</td>\n",
       "      <td>1</td>\n",
       "    </tr>\n",
       "    <tr>\n",
       "      <th>3</th>\n",
       "      <td>\"241027\"</td>\n",
       "      <td>0</td>\n",
       "      <td>0</td>\n",
       "      <td>0</td>\n",
       "      <td>0</td>\n",
       "      <td>0</td>\n",
       "      <td>0</td>\n",
       "      <td>1</td>\n",
       "      <td>0</td>\n",
       "      <td>0</td>\n",
       "      <td>...</td>\n",
       "      <td>0</td>\n",
       "      <td>0</td>\n",
       "      <td>0</td>\n",
       "      <td>0</td>\n",
       "      <td>0</td>\n",
       "      <td>0</td>\n",
       "      <td>1</td>\n",
       "      <td>0</td>\n",
       "      <td>0</td>\n",
       "      <td>1</td>\n",
       "    </tr>\n",
       "    <tr>\n",
       "      <th>4</th>\n",
       "      <td>\"220067\"</td>\n",
       "      <td>0</td>\n",
       "      <td>0</td>\n",
       "      <td>0</td>\n",
       "      <td>0</td>\n",
       "      <td>0</td>\n",
       "      <td>0</td>\n",
       "      <td>1</td>\n",
       "      <td>0</td>\n",
       "      <td>0</td>\n",
       "      <td>...</td>\n",
       "      <td>0</td>\n",
       "      <td>0</td>\n",
       "      <td>0</td>\n",
       "      <td>0</td>\n",
       "      <td>0</td>\n",
       "      <td>0</td>\n",
       "      <td>1</td>\n",
       "      <td>0</td>\n",
       "      <td>0</td>\n",
       "      <td>1</td>\n",
       "    </tr>\n",
       "  </tbody>\n",
       "</table>\n",
       "<p>5 rows × 140 columns</p>\n",
       "</div>"
      ],
      "text/plain": [
       "       ACC1  ACC2  ACC5  ACC15  ACC17  ACC19  ACC21  ACC22  ACC23  ACC25  ...  \\\n",
       "0  \"704048\"     0     0      0      0      0      0      1      0      0  ...   \n",
       "1  \"400030\"     0     0      0      0      0      0      1      0      0  ...   \n",
       "2  \"100029\"     0     0      0      0      0      0      1      0      0  ...   \n",
       "3  \"241027\"     0     0      0      0      0      0      1      0      0  ...   \n",
       "4  \"220067\"     0     0      0      0      0      0      1      0      0  ...   \n",
       "\n",
       "   ACC35_62  ACC35_63  ACC35_64  ACC35_65 ACC35_66  ACC35_67  ACC35_nan  \\\n",
       "0         0         0         0         0        0         0          1   \n",
       "1         0         0         0         0        0         0          1   \n",
       "2         0         0         0         0        0         0          1   \n",
       "3         0         0         0         0        0         0          1   \n",
       "4         0         0         0         0        0         0          1   \n",
       "\n",
       "   ACC36_F  ACC36_R  ACC36_nan  \n",
       "0        0        0          1  \n",
       "1        0        0          1  \n",
       "2        0        0          1  \n",
       "3        0        0          1  \n",
       "4        0        0          1  \n",
       "\n",
       "[5 rows x 140 columns]"
      ]
     },
     "execution_count": 2,
     "metadata": {},
     "output_type": "execute_result"
    }
   ],
   "source": [
    "df = pd.read_csv(\"imail_box.csv\")\n",
    "df.head()"
   ]
  },
  {
   "cell_type": "code",
   "execution_count": 3,
   "metadata": {},
   "outputs": [
    {
     "name": "stderr",
     "output_type": "stream",
     "text": [
      "C:\\Users\\User\\Anaconda3\\lib\\site-packages\\ipykernel_launcher.py:3: SettingWithCopyWarning: \n",
      "A value is trying to be set on a copy of a slice from a DataFrame\n",
      "\n",
      "See the caveats in the documentation: http://pandas.pydata.org/pandas-docs/stable/indexing.html#indexing-view-versus-copy\n",
      "  This is separate from the ipykernel package so we can avoid doing imports until\n"
     ]
    }
   ],
   "source": [
    "for i in range(len(df[\"ACC28\"])):\n",
    "    if len(str(df[\"ACC28\"][i])) > 3: \n",
    "        df[\"ACC28\"][i] = str(df[\"ACC28\"][i])[:3]"
   ]
  },
  {
   "cell_type": "markdown",
   "metadata": {},
   "source": [
    "## 全台i郵箱使用比較"
   ]
  },
  {
   "cell_type": "code",
   "execution_count": 4,
   "metadata": {},
   "outputs": [
    {
     "data": {
      "text/plain": [
       "0     0.286275\n",
       "1     0.034431\n",
       "2     0.260627\n",
       "3     0.002902\n",
       "4     0.154588\n",
       "5     0.183843\n",
       "6     0.000863\n",
       "7     0.004471\n",
       "8     0.009255\n",
       "9     0.002196\n",
       "10    0.000627\n",
       "11    0.003843\n",
       "12    0.032627\n",
       "13    0.002510\n",
       "14    0.006824\n",
       "15    0.000078\n",
       "16    0.000078\n",
       "Name: 0, dtype: float64"
      ]
     },
     "execution_count": 4,
     "metadata": {},
     "output_type": "execute_result"
    }
   ],
   "source": [
    "all_ = df[\"ACC28\"].count()\n",
    "n_1=n_2=n_3=n_4=n_5=n_6=n_7=n_8=n_9=n_10=n_11=n_12=n_13=n_14=n_15=n_16=n_17=0\n",
    "for c in range(12750):\n",
    "    if df[\"ACC28\"][c] < 200: #台北\n",
    "        n_1+=1\n",
    "    if df[\"ACC28\"][c]<207 and df[\"ACC28\"][c]>200: #基隆\n",
    "        n_2+=1\n",
    "    if df[\"ACC28\"][c]<256 and df[\"ACC28\"][c]>206: #新北\n",
    "        n_3+=1\n",
    "    if df[\"ACC28\"][c]<291 and df[\"ACC28\"][c]>259: #宜蘭\n",
    "        n_4+=1\n",
    "    if df[\"ACC28\"][c]<316 and df[\"ACC28\"][c]>299: #新竹\n",
    "        n_5+=1\n",
    "    if df[\"ACC28\"][c]<339 and df[\"ACC28\"][c]>319: #桃園\n",
    "        n_6+=1\n",
    "    if df[\"ACC28\"][c]<370 and df[\"ACC28\"][c]>349: #苗栗\n",
    "        n_7+=1\n",
    "    if df[\"ACC28\"][c]<499 and df[\"ACC28\"][c]>399: #台中\n",
    "        n_8+=1\n",
    "    if df[\"ACC28\"][c]<531 and df[\"ACC28\"][c]>499: #彰化\n",
    "        n_9+=1\n",
    "    if df[\"ACC28\"][c]<559 and df[\"ACC28\"][c]>539: #南投\n",
    "        n_10+=1\n",
    "    if df[\"ACC28\"][c]<626 and df[\"ACC28\"][c]>599: #嘉義\n",
    "        n_11+=1\n",
    "    if df[\"ACC28\"][c]<656 and df[\"ACC28\"][c]>629: #雲林\n",
    "        n_12+=1\n",
    "    if df[\"ACC28\"][c]<799 and df[\"ACC28\"][c]>699: #台南\n",
    "        n_13+=1\n",
    "    if df[\"ACC28\"][c]<853 and df[\"ACC28\"][c]>799: #高雄\n",
    "        n_14+=1\n",
    "    if df[\"ACC28\"][c]<948 and df[\"ACC28\"][c]>899: #屏東\n",
    "        n_15+=1\n",
    "    if df[\"ACC28\"][c]<967 and df[\"ACC28\"][c]>949: #台東\n",
    "        n_16+=1\n",
    "    if df[\"ACC28\"][c]<984 and df[\"ACC28\"][c]>969: #花蓮\n",
    "        n_17+=1\n",
    "    \n",
    "all_list = []\n",
    "all_list.append([n_1, n_2, n_3, n_4, n_5, n_6, n_7, n_8, n_9, n_10, n_11, n_12, n_13, n_14, n_15, n_16, n_17])\n",
    "p_all = pd.DataFrame(all_list[0])[0]/all_\n",
    "p_all"
   ]
  },
  {
   "cell_type": "code",
   "execution_count": 37,
   "metadata": {},
   "outputs": [],
   "source": [
    "city = [\"Taipei\", \"Keelung\", \"New Taipei\", \"Yilan\" ,\"Hsinchu\", \"Taoyuan\", \"Miaoli\", \"Taichung\", \"Changhua\",\n",
    "            \"Nantou\", \"Chiayi\", \"Yunlin\", \"Tainan\", \"Kaohsiung\", \"Pingtung\", \"Taitung\", \"Hualien\"]\n",
    "num = list(p_all)\n",
    "\n",
    "ironmen_dict = {\n",
    "                \"city\": city,\n",
    "                \"proportion\": num\n",
    "}\n",
    "ironmen_df = pd.DataFrame(ironmen_dict)\n"
   ]
  },
  {
   "cell_type": "code",
   "execution_count": 40,
   "metadata": {},
   "outputs": [
    {
     "data": {
      "text/plain": [
       "[Text(0, 0, 'Taipei'),\n",
       " Text(0, 0, 'Keelung'),\n",
       " Text(0, 0, 'New Taipei'),\n",
       " Text(0, 0, 'Yilan'),\n",
       " Text(0, 0, 'Hsinchu'),\n",
       " Text(0, 0, 'Taoyuan'),\n",
       " Text(0, 0, 'Miaoli'),\n",
       " Text(0, 0, 'Taichung'),\n",
       " Text(0, 0, 'Changhua'),\n",
       " Text(0, 0, 'Nantou'),\n",
       " Text(0, 0, 'Chiayi'),\n",
       " Text(0, 0, 'Yunlin'),\n",
       " Text(0, 0, 'Tainan'),\n",
       " Text(0, 0, 'Kaohsiung'),\n",
       " Text(0, 0, 'Pingtung'),\n",
       " Text(0, 0, 'Taitung'),\n",
       " Text(0, 0, 'Hualien')]"
      ]
     },
     "execution_count": 40,
     "metadata": {},
     "output_type": "execute_result"
    },
    {
     "data": {
      "image/png": "[encoded data removed]",
      "text/plain": [
       "<Figure size 432x288 with 1 Axes>"
      ]
     },
     "metadata": {},
     "output_type": "display_data"
    }
   ],
   "source": [
    "import seaborn as sns\n",
    "#df = pd.read_csv('F:/Gaming_data/join_acc_tts_imailbox.csv', engine='python',encoding = 'ANSI')\n",
    "#f, ax = plt.subplots(1, 1)\n",
    "sns.set(style=\"whitegrid\")\n",
    "ax = sns.barplot(x = 'city', y = 'proportion', data=ironmen_df)\n",
    "ax.set_xticklabels(ax.get_xticklabels(), rotation=90)\n",
    "\n",
    "#ax = sns.countplot(x='num',data=ironmen_df);"
   ]
  },
  {
   "cell_type": "code",
   "execution_count": 14,
   "metadata": {},
   "outputs": [
    {
     "data": {
      "image/png": "[encoded data removed]",
      "text/plain": [
       "<Figure size 432x288 with 1 Axes>"
      ]
     },
     "metadata": {
      "needs_background": "light"
     },
     "output_type": "display_data"
    }
   ],
   "source": [
    "plt.title(\"use ibox distribution\")\n",
    "p_all.plot.bar(color=['salmon','orange','peru','forestgreen','orchid'])\n",
    "plt.xticks([0, 1, 2, 3, 4, 5, 6, 7 ,8, 9, 10, 11, 12, 13, 14, 15, 16, 17], \n",
    "           [\"Taipei\", \"Keelung\", \"New Taipei\", \"Yilan\" ,\"Hsinchu\", \"Taoyuan\", \"Miaoli\", \"Taichung\", \"Changhua\",\n",
    "            \"Nantou\", \"Chiayi\", \"Yunlin\", \"Tainan\", \"Kaohsiung\", \"Pingtung\", \"Taitung\", \"Hualien\"])\n",
    "#plt.xlabel(\"city\")\n",
    "plt.ylabel(\"proportion\")\n",
    "plt.show()"
   ]
  },
  {
   "cell_type": "markdown",
   "metadata": {},
   "source": [
    "## 台北 郵遞區號為「1」的ｉ郵箱分佈"
   ]
  },
  {
   "cell_type": "code",
   "execution_count": 193,
   "metadata": {},
   "outputs": [],
   "source": [
    "st1 = []\n",
    "for c in range(12750):\n",
    "    if str(df[\"ACC28\"][c])[0] == \"1\":\n",
    "        st1.append(df[\"ACC28\"][c])\n",
    "n = len(st1)"
   ]
  },
  {
   "cell_type": "code",
   "execution_count": 201,
   "metadata": {},
   "outputs": [
    {
     "data": {
      "image/png": "[encoded data removed]",
      "text/plain": [
       "<Figure size 432x288 with 1 Axes>"
      ]
     },
     "metadata": {
      "needs_background": "light"
     },
     "output_type": "display_data"
    }
   ],
   "source": [
    "p = pd.DataFrame(st1)[0].value_counts()/n\n",
    "plt.title(\"Taipei ibox distribution\")\n",
    "p.plot.bar(color='b')\n",
    "plt.xlabel(\"postal code\")\n",
    "plt.ylabel(\"proportion\")\n",
    "plt.show()"
   ]
  },
  {
   "cell_type": "markdown",
   "metadata": {},
   "source": [
    "## 台中 郵遞區號為「4」的ｉ郵箱分佈"
   ]
  },
  {
   "cell_type": "code",
   "execution_count": 195,
   "metadata": {},
   "outputs": [],
   "source": [
    "st4 = []\n",
    "for c in range(12750):\n",
    "    if str(df[\"ACC28\"][c])[0] == \"4\":\n",
    "        st4.append(df[\"ACC28\"][c])\n",
    "n = len(st4)"
   ]
  },
  {
   "cell_type": "code",
   "execution_count": 200,
   "metadata": {},
   "outputs": [
    {
     "data": {
      "image/png": "[encoded data removed]",
      "text/plain": [
       "<Figure size 432x288 with 1 Axes>"
      ]
     },
     "metadata": {
      "needs_background": "light"
     },
     "output_type": "display_data"
    }
   ],
   "source": [
    "p = pd.DataFrame(st4)[0].value_counts()/n\n",
    "plt.title(\"Taichung ibox distribution\")\n",
    "p.plot.bar(color='b')\n",
    "plt.xlabel(\"postal code\")\n",
    "plt.ylabel(\"proportion\")\n",
    "plt.show()"
   ]
  },
  {
   "cell_type": "markdown",
   "metadata": {},
   "source": [
    "## 新竹 i郵箱分佈"
   ]
  },
  {
   "cell_type": "code",
   "execution_count": 197,
   "metadata": {},
   "outputs": [],
   "source": [
    "st = []\n",
    "for c in range(12750):\n",
    "    if df[\"ACC28\"][c]<316 and df[\"ACC28\"][c]>299: #新竹\n",
    "        st.append(df[\"ACC28\"][c])\n",
    "n = len(st)"
   ]
  },
  {
   "cell_type": "code",
   "execution_count": 199,
   "metadata": {},
   "outputs": [
    {
     "data": {
      "image/png": "[encoded data removed]",
      "text/plain": [
       "<Figure size 432x288 with 1 Axes>"
      ]
     },
     "metadata": {
      "needs_background": "light"
     },
     "output_type": "display_data"
    }
   ],
   "source": [
    "p = pd.DataFrame(st)[0].value_counts()/n\n",
    "plt.title(\"Hsinchu ibox distribution\")\n",
    "p.plot.bar(color='b')\n",
    "plt.xlabel(\"postal code\")\n",
    "plt.ylabel(\"proportion\")\n",
    "plt.show()"
   ]
  },
  {
   "cell_type": "code",
   "execution_count": null,
   "metadata": {},
   "outputs": [],
   "source": []
  }
 ],
 "metadata": {
  "kernelspec": {
   "display_name": "Python 3",
   "language": "python",
   "name": "python3"
  },
  "language_info": {
   "codemirror_mode": {
    "name": "ipython",
    "version": 3
   },
   "file_extension": ".py",
   "mimetype": "text/x-python",
   "name": "python",
   "nbconvert_exporter": "python",
   "pygments_lexer": "ipython3",
   "version": "3.7.1"
  }
 },
 "nbformat": 4,
 "nbformat_minor": 2
}
